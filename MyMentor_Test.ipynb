{
  "nbformat": 4,
  "nbformat_minor": 0,
  "metadata": {
    "colab": {
      "provenance": []
    },
    "kernelspec": {
      "name": "python3",
      "display_name": "Python 3"
    },
    "language_info": {
      "name": "python"
    }
  },
  "cells": [
    {
      "cell_type": "code",
      "source": [
        "!pip install gspread\n",
        "!pip install pandas"
      ],
      "metadata": {
        "colab": {
          "base_uri": "https://localhost:8080/"
        },
        "id": "D69w6npp6FOr",
        "outputId": "438628d3-d942-47a8-8e39-f883588c8eff"
      },
      "execution_count": null,
      "outputs": [
        {
          "output_type": "stream",
          "name": "stdout",
          "text": [
            "Looking in indexes: https://pypi.org/simple, https://us-python.pkg.dev/colab-wheels/public/simple/\n",
            "Requirement already satisfied: gspread in /usr/local/lib/python3.10/dist-packages (3.4.2)\n",
            "Requirement already satisfied: requests>=2.2.1 in /usr/local/lib/python3.10/dist-packages (from gspread) (2.27.1)\n",
            "Requirement already satisfied: google-auth in /usr/local/lib/python3.10/dist-packages (from gspread) (2.17.3)\n",
            "Requirement already satisfied: urllib3<1.27,>=1.21.1 in /usr/local/lib/python3.10/dist-packages (from requests>=2.2.1->gspread) (1.26.15)\n",
            "Requirement already satisfied: certifi>=2017.4.17 in /usr/local/lib/python3.10/dist-packages (from requests>=2.2.1->gspread) (2022.12.7)\n",
            "Requirement already satisfied: charset-normalizer~=2.0.0 in /usr/local/lib/python3.10/dist-packages (from requests>=2.2.1->gspread) (2.0.12)\n",
            "Requirement already satisfied: idna<4,>=2.5 in /usr/local/lib/python3.10/dist-packages (from requests>=2.2.1->gspread) (3.4)\n",
            "Requirement already satisfied: cachetools<6.0,>=2.0.0 in /usr/local/lib/python3.10/dist-packages (from google-auth->gspread) (5.3.0)\n",
            "Requirement already satisfied: pyasn1-modules>=0.2.1 in /usr/local/lib/python3.10/dist-packages (from google-auth->gspread) (0.3.0)\n",
            "Requirement already satisfied: six>=1.9.0 in /usr/local/lib/python3.10/dist-packages (from google-auth->gspread) (1.16.0)\n",
            "Requirement already satisfied: rsa<5,>=3.1.4 in /usr/local/lib/python3.10/dist-packages (from google-auth->gspread) (4.9)\n",
            "Requirement already satisfied: pyasn1<0.6.0,>=0.4.6 in /usr/local/lib/python3.10/dist-packages (from pyasn1-modules>=0.2.1->google-auth->gspread) (0.5.0)\n",
            "Looking in indexes: https://pypi.org/simple, https://us-python.pkg.dev/colab-wheels/public/simple/\n",
            "Requirement already satisfied: pandas in /usr/local/lib/python3.10/dist-packages (1.5.3)\n",
            "Requirement already satisfied: python-dateutil>=2.8.1 in /usr/local/lib/python3.10/dist-packages (from pandas) (2.8.2)\n",
            "Requirement already satisfied: pytz>=2020.1 in /usr/local/lib/python3.10/dist-packages (from pandas) (2022.7.1)\n",
            "Requirement already satisfied: numpy>=1.21.0 in /usr/local/lib/python3.10/dist-packages (from pandas) (1.22.4)\n",
            "Requirement already satisfied: six>=1.5 in /usr/local/lib/python3.10/dist-packages (from python-dateutil>=2.8.1->pandas) (1.16.0)\n"
          ]
        }
      ]
    },
    {
      "cell_type": "code",
      "source": [
        "from google.colab import drive, auth\n",
        "from google.auth import default\n",
        "import gspread as gd\n",
        "import pandas as pd"
      ],
      "metadata": {
        "id": "Z6XoHE9M6K7-"
      },
      "execution_count": null,
      "outputs": []
    },
    {
      "cell_type": "code",
      "source": [
        "drive.mount ('/content/drive')\n",
        "auth.authenticate_user()\n",
        "\n",
        "creds,_ = default()\n",
        "\n",
        "gc = gd.authorize(creds)"
      ],
      "metadata": {
        "id": "3XPnTl2Z6Lxu",
        "colab": {
          "base_uri": "https://localhost:8080/"
        },
        "outputId": "eb3444d7-48f4-4d3e-f64e-e2c43d22bae4"
      },
      "execution_count": null,
      "outputs": [
        {
          "output_type": "stream",
          "name": "stdout",
          "text": [
            "Mounted at /content/drive\n"
          ]
        }
      ]
    },
    {
      "cell_type": "code",
      "source": [
        "data_mentor = gc.open('DATA_MYMENTOR').worksheet(\"Mentor\")\n",
        "data_mentee = gc.open('DATA_MYMENTOR').worksheet(\"Mentee\")\n",
        "data_mentee_topic_choices = gc.open('DATA_MYMENTOR').worksheet(\"Topic_Choices\")"
      ],
      "metadata": {
        "id": "bC6yYv9Z6QsS"
      },
      "execution_count": null,
      "outputs": []
    },
    {
      "cell_type": "code",
      "source": [
        "data1 = data_mentor.get_all_values()\n",
        "dfdata_mentor = pd.DataFrame(data1)\n",
        "#dfdata_mentor = dfdata_mentor.drop(df.index[0])\n",
        "dfdata_mentor = dfdata_mentor.shift(-1)\n",
        "dfdata_mentor.columns = ['Name','Latest Education','Educational Background','Experience','Work Position','Role','Rating','Profile Views']\n",
        "dfdata_mentor = dfdata_mentor.iloc[:-1]\n",
        "display(dfdata_mentor)"
      ],
      "metadata": {
        "colab": {
          "base_uri": "https://localhost:8080/",
          "height": 424
        },
        "id": "lqvrsy1Y6Y1Q",
        "outputId": "13e7777b-ec43-456e-fba2-62f19e8cf59e"
      },
      "execution_count": null,
      "outputs": [
        {
          "output_type": "display_data",
          "data": {
            "text/plain": [
              "                   Name Latest Education           Educational Background  \\\n",
              "0          Budi Sumarto               S1            Industrial Technology   \n",
              "1    Dian Sastrowardoyo               S2            Industrial Technology   \n",
              "2            Joko Anwar               S3                Civil Engineering   \n",
              "3          Agnes Monica               D3           Information Technology   \n",
              "4        Raisa Andriana               S1                Civil Engineering   \n",
              "..                  ...              ...                              ...   \n",
              "295        Dewi Nugraha               D3                     Digital Arts   \n",
              "296           Dini Dewi               D4    Industrial and product Design   \n",
              "297        Dicky Wijaya               S1  Commercial and Advertising Arts   \n",
              "298       Dinda Susanto               S2      Visual Communication Design   \n",
              "299         Dian Wibowo               S1                     Digital Arts   \n",
              "\n",
              "     Experience                 Work Position     Role Rating Profile Views  \n",
              "0     >10 years             Software Engineer   Hacker    4.7          9228  \n",
              "1    5-10 years           Front End Developer   Hacker    4.8         10170  \n",
              "2      <5 years        Database Administrator   Hacker    4.9          9407  \n",
              "3    5-10 years                 Web Developer   Hacker    4.2          9446  \n",
              "4     >10 years  Information Security Analyst   Hacker    3.9         15107  \n",
              "..          ...                           ...      ...    ...           ...  \n",
              "295    <5 years            Digital Strategist  Hipster    4.1          8353  \n",
              "296   >10 years              Graphic Designer  Hipster    4.6          7076  \n",
              "297    <5 years            Digital Strategist  Hipster    4.6          9526  \n",
              "298    <5 years              Graphic Designer  Hipster    3.9          5469  \n",
              "299  5-10 years                  Art Director  Hipster    4.8         10771  \n",
              "\n",
              "[300 rows x 8 columns]"
            ],
            "text/html": [
              "\n",
              "  <div id=\"df-f33d7d4d-7dce-4bea-aeba-1f0171b40af5\">\n",
              "    <div class=\"colab-df-container\">\n",
              "      <div>\n",
              "<style scoped>\n",
              "    .dataframe tbody tr th:only-of-type {\n",
              "        vertical-align: middle;\n",
              "    }\n",
              "\n",
              "    .dataframe tbody tr th {\n",
              "        vertical-align: top;\n",
              "    }\n",
              "\n",
              "    .dataframe thead th {\n",
              "        text-align: right;\n",
              "    }\n",
              "</style>\n",
              "<table border=\"1\" class=\"dataframe\">\n",
              "  <thead>\n",
              "    <tr style=\"text-align: right;\">\n",
              "      <th></th>\n",
              "      <th>Name</th>\n",
              "      <th>Latest Education</th>\n",
              "      <th>Educational Background</th>\n",
              "      <th>Experience</th>\n",
              "      <th>Work Position</th>\n",
              "      <th>Role</th>\n",
              "      <th>Rating</th>\n",
              "      <th>Profile Views</th>\n",
              "    </tr>\n",
              "  </thead>\n",
              "  <tbody>\n",
              "    <tr>\n",
              "      <th>0</th>\n",
              "      <td>Budi Sumarto</td>\n",
              "      <td>S1</td>\n",
              "      <td>Industrial Technology</td>\n",
              "      <td>&gt;10 years</td>\n",
              "      <td>Software Engineer</td>\n",
              "      <td>Hacker</td>\n",
              "      <td>4.7</td>\n",
              "      <td>9228</td>\n",
              "    </tr>\n",
              "    <tr>\n",
              "      <th>1</th>\n",
              "      <td>Dian Sastrowardoyo</td>\n",
              "      <td>S2</td>\n",
              "      <td>Industrial Technology</td>\n",
              "      <td>5-10 years</td>\n",
              "      <td>Front End Developer</td>\n",
              "      <td>Hacker</td>\n",
              "      <td>4.8</td>\n",
              "      <td>10170</td>\n",
              "    </tr>\n",
              "    <tr>\n",
              "      <th>2</th>\n",
              "      <td>Joko Anwar</td>\n",
              "      <td>S3</td>\n",
              "      <td>Civil Engineering</td>\n",
              "      <td>&lt;5 years</td>\n",
              "      <td>Database Administrator</td>\n",
              "      <td>Hacker</td>\n",
              "      <td>4.9</td>\n",
              "      <td>9407</td>\n",
              "    </tr>\n",
              "    <tr>\n",
              "      <th>3</th>\n",
              "      <td>Agnes Monica</td>\n",
              "      <td>D3</td>\n",
              "      <td>Information Technology</td>\n",
              "      <td>5-10 years</td>\n",
              "      <td>Web Developer</td>\n",
              "      <td>Hacker</td>\n",
              "      <td>4.2</td>\n",
              "      <td>9446</td>\n",
              "    </tr>\n",
              "    <tr>\n",
              "      <th>4</th>\n",
              "      <td>Raisa Andriana</td>\n",
              "      <td>S1</td>\n",
              "      <td>Civil Engineering</td>\n",
              "      <td>&gt;10 years</td>\n",
              "      <td>Information Security Analyst</td>\n",
              "      <td>Hacker</td>\n",
              "      <td>3.9</td>\n",
              "      <td>15107</td>\n",
              "    </tr>\n",
              "    <tr>\n",
              "      <th>...</th>\n",
              "      <td>...</td>\n",
              "      <td>...</td>\n",
              "      <td>...</td>\n",
              "      <td>...</td>\n",
              "      <td>...</td>\n",
              "      <td>...</td>\n",
              "      <td>...</td>\n",
              "      <td>...</td>\n",
              "    </tr>\n",
              "    <tr>\n",
              "      <th>295</th>\n",
              "      <td>Dewi Nugraha</td>\n",
              "      <td>D3</td>\n",
              "      <td>Digital Arts</td>\n",
              "      <td>&lt;5 years</td>\n",
              "      <td>Digital Strategist</td>\n",
              "      <td>Hipster</td>\n",
              "      <td>4.1</td>\n",
              "      <td>8353</td>\n",
              "    </tr>\n",
              "    <tr>\n",
              "      <th>296</th>\n",
              "      <td>Dini Dewi</td>\n",
              "      <td>D4</td>\n",
              "      <td>Industrial and product Design</td>\n",
              "      <td>&gt;10 years</td>\n",
              "      <td>Graphic Designer</td>\n",
              "      <td>Hipster</td>\n",
              "      <td>4.6</td>\n",
              "      <td>7076</td>\n",
              "    </tr>\n",
              "    <tr>\n",
              "      <th>297</th>\n",
              "      <td>Dicky Wijaya</td>\n",
              "      <td>S1</td>\n",
              "      <td>Commercial and Advertising Arts</td>\n",
              "      <td>&lt;5 years</td>\n",
              "      <td>Digital Strategist</td>\n",
              "      <td>Hipster</td>\n",
              "      <td>4.6</td>\n",
              "      <td>9526</td>\n",
              "    </tr>\n",
              "    <tr>\n",
              "      <th>298</th>\n",
              "      <td>Dinda Susanto</td>\n",
              "      <td>S2</td>\n",
              "      <td>Visual Communication Design</td>\n",
              "      <td>&lt;5 years</td>\n",
              "      <td>Graphic Designer</td>\n",
              "      <td>Hipster</td>\n",
              "      <td>3.9</td>\n",
              "      <td>5469</td>\n",
              "    </tr>\n",
              "    <tr>\n",
              "      <th>299</th>\n",
              "      <td>Dian Wibowo</td>\n",
              "      <td>S1</td>\n",
              "      <td>Digital Arts</td>\n",
              "      <td>5-10 years</td>\n",
              "      <td>Art Director</td>\n",
              "      <td>Hipster</td>\n",
              "      <td>4.8</td>\n",
              "      <td>10771</td>\n",
              "    </tr>\n",
              "  </tbody>\n",
              "</table>\n",
              "<p>300 rows × 8 columns</p>\n",
              "</div>\n",
              "      <button class=\"colab-df-convert\" onclick=\"convertToInteractive('df-f33d7d4d-7dce-4bea-aeba-1f0171b40af5')\"\n",
              "              title=\"Convert this dataframe to an interactive table.\"\n",
              "              style=\"display:none;\">\n",
              "        \n",
              "  <svg xmlns=\"http://www.w3.org/2000/svg\" height=\"24px\"viewBox=\"0 0 24 24\"\n",
              "       width=\"24px\">\n",
              "    <path d=\"M0 0h24v24H0V0z\" fill=\"none\"/>\n",
              "    <path d=\"M18.56 5.44l.94 2.06.94-2.06 2.06-.94-2.06-.94-.94-2.06-.94 2.06-2.06.94zm-11 1L8.5 8.5l.94-2.06 2.06-.94-2.06-.94L8.5 2.5l-.94 2.06-2.06.94zm10 10l.94 2.06.94-2.06 2.06-.94-2.06-.94-.94-2.06-.94 2.06-2.06.94z\"/><path d=\"M17.41 7.96l-1.37-1.37c-.4-.4-.92-.59-1.43-.59-.52 0-1.04.2-1.43.59L10.3 9.45l-7.72 7.72c-.78.78-.78 2.05 0 2.83L4 21.41c.39.39.9.59 1.41.59.51 0 1.02-.2 1.41-.59l7.78-7.78 2.81-2.81c.8-.78.8-2.07 0-2.86zM5.41 20L4 18.59l7.72-7.72 1.47 1.35L5.41 20z\"/>\n",
              "  </svg>\n",
              "      </button>\n",
              "      \n",
              "  <style>\n",
              "    .colab-df-container {\n",
              "      display:flex;\n",
              "      flex-wrap:wrap;\n",
              "      gap: 12px;\n",
              "    }\n",
              "\n",
              "    .colab-df-convert {\n",
              "      background-color: #E8F0FE;\n",
              "      border: none;\n",
              "      border-radius: 50%;\n",
              "      cursor: pointer;\n",
              "      display: none;\n",
              "      fill: #1967D2;\n",
              "      height: 32px;\n",
              "      padding: 0 0 0 0;\n",
              "      width: 32px;\n",
              "    }\n",
              "\n",
              "    .colab-df-convert:hover {\n",
              "      background-color: #E2EBFA;\n",
              "      box-shadow: 0px 1px 2px rgba(60, 64, 67, 0.3), 0px 1px 3px 1px rgba(60, 64, 67, 0.15);\n",
              "      fill: #174EA6;\n",
              "    }\n",
              "\n",
              "    [theme=dark] .colab-df-convert {\n",
              "      background-color: #3B4455;\n",
              "      fill: #D2E3FC;\n",
              "    }\n",
              "\n",
              "    [theme=dark] .colab-df-convert:hover {\n",
              "      background-color: #434B5C;\n",
              "      box-shadow: 0px 1px 3px 1px rgba(0, 0, 0, 0.15);\n",
              "      filter: drop-shadow(0px 1px 2px rgba(0, 0, 0, 0.3));\n",
              "      fill: #FFFFFF;\n",
              "    }\n",
              "  </style>\n",
              "\n",
              "      <script>\n",
              "        const buttonEl =\n",
              "          document.querySelector('#df-f33d7d4d-7dce-4bea-aeba-1f0171b40af5 button.colab-df-convert');\n",
              "        buttonEl.style.display =\n",
              "          google.colab.kernel.accessAllowed ? 'block' : 'none';\n",
              "\n",
              "        async function convertToInteractive(key) {\n",
              "          const element = document.querySelector('#df-f33d7d4d-7dce-4bea-aeba-1f0171b40af5');\n",
              "          const dataTable =\n",
              "            await google.colab.kernel.invokeFunction('convertToInteractive',\n",
              "                                                     [key], {});\n",
              "          if (!dataTable) return;\n",
              "\n",
              "          const docLinkHtml = 'Like what you see? Visit the ' +\n",
              "            '<a target=\"_blank\" href=https://colab.research.google.com/notebooks/data_table.ipynb>data table notebook</a>'\n",
              "            + ' to learn more about interactive tables.';\n",
              "          element.innerHTML = '';\n",
              "          dataTable['output_type'] = 'display_data';\n",
              "          await google.colab.output.renderOutput(dataTable, element);\n",
              "          const docLink = document.createElement('div');\n",
              "          docLink.innerHTML = docLinkHtml;\n",
              "          element.appendChild(docLink);\n",
              "        }\n",
              "      </script>\n",
              "    </div>\n",
              "  </div>\n",
              "  "
            ]
          },
          "metadata": {}
        }
      ]
    },
    {
      "cell_type": "code",
      "source": [
        "data2 = data_mentee.get_all_values()\n",
        "dfdata_mentee = pd.DataFrame(data2)\n",
        "#dfdata_mentee = dfdata_mentee.drop(df.index[150])\n",
        "dfdata_mentee = dfdata_mentee.shift(-1)\n",
        "dfdata_mentee.columns = ['Name','Latest Education','Educational Background','Role','Topic 1','Topic 2', 'Topic 3','Rating']\n",
        "dfdata_mentee = dfdata_mentee.iloc[:-1]\n",
        "display(dfdata_mentee)"
      ],
      "metadata": {
        "colab": {
          "base_uri": "https://localhost:8080/",
          "height": 554
        },
        "id": "TNKPJ7r46fAh",
        "outputId": "86467a06-9342-4fe2-996c-f098bcb83923"
      },
      "execution_count": null,
      "outputs": [
        {
          "output_type": "display_data",
          "data": {
            "text/plain": [
              "                                Name Latest Education  \\\n",
              "0                      Bachrul Uluum               D3   \n",
              "1                Ihlasul Mufti Faqih               S1   \n",
              "2            Raditya Widi Indarsanto              SMA   \n",
              "3    Benneth Sinto Briliant Siburian               D4   \n",
              "4           I Gusti Bagus Ardavendra               D3   \n",
              "..                               ...              ...   \n",
              "295                      Nabila Dewi               D4   \n",
              "296                   Nadia Prasetyo               D3   \n",
              "297                    Nathan Wijaya              SMA   \n",
              "298                      Nia Santoso               S1   \n",
              "299                    Nanda Permata               D4   \n",
              "\n",
              "              Educational Background     Role             Topic 1  \\\n",
              "0                  Civil Engineering   Hacker       Web Developer   \n",
              "1             Information Technology   Hacker      Data Scientist   \n",
              "2                    Science Studies   Hacker      Data Scientist   \n",
              "3              Industrial Technology   Hacker   Software Engineer   \n",
              "4             Information Technology   Hacker       AI Specialist   \n",
              "..                               ...      ...                 ...   \n",
              "295    Industrial and product Design  Hipster  Digital Strategist   \n",
              "296  Commercial and Advertising Arts  Hipster    Graphic Designer   \n",
              "297                  Science Studies  Hipster        Art Director   \n",
              "298      Visual Communication Design  Hipster        Art Director   \n",
              "299    Industrial and product Design  Hipster    Creative Officer   \n",
              "\n",
              "                            Topic 2                         Topic 3  \\\n",
              "0    Computer Networking Specialist          Database Administrator   \n",
              "1                Back End Developer            Full Stack Developer   \n",
              "2                 Software Engineer                   AI Specialist   \n",
              "3                     AI Specialist             Front End Developer   \n",
              "4                Back End Developer  Computer Networking Specialist   \n",
              "..                              ...                             ...   \n",
              "295                Creative Officer              Digital Strategist   \n",
              "296                    Art Director                Creative Officer   \n",
              "297                Graphic Designer                  UI/UX Designer   \n",
              "298                  UI/UX Designer                Graphic Designer   \n",
              "299                    Art Director                Graphic Designer   \n",
              "\n",
              "          Rating  \n",
              "0    4.166666667  \n",
              "1            3.9  \n",
              "2            4.5  \n",
              "3            3.8  \n",
              "4            4.3  \n",
              "..           ...  \n",
              "295  4.333333333  \n",
              "296          4.5  \n",
              "297          4.2  \n",
              "298          3.7  \n",
              "299  4.633333333  \n",
              "\n",
              "[300 rows x 8 columns]"
            ],
            "text/html": [
              "\n",
              "  <div id=\"df-b0b39f6a-4389-4a6e-9c1d-e05e9a8db1ae\">\n",
              "    <div class=\"colab-df-container\">\n",
              "      <div>\n",
              "<style scoped>\n",
              "    .dataframe tbody tr th:only-of-type {\n",
              "        vertical-align: middle;\n",
              "    }\n",
              "\n",
              "    .dataframe tbody tr th {\n",
              "        vertical-align: top;\n",
              "    }\n",
              "\n",
              "    .dataframe thead th {\n",
              "        text-align: right;\n",
              "    }\n",
              "</style>\n",
              "<table border=\"1\" class=\"dataframe\">\n",
              "  <thead>\n",
              "    <tr style=\"text-align: right;\">\n",
              "      <th></th>\n",
              "      <th>Name</th>\n",
              "      <th>Latest Education</th>\n",
              "      <th>Educational Background</th>\n",
              "      <th>Role</th>\n",
              "      <th>Topic 1</th>\n",
              "      <th>Topic 2</th>\n",
              "      <th>Topic 3</th>\n",
              "      <th>Rating</th>\n",
              "    </tr>\n",
              "  </thead>\n",
              "  <tbody>\n",
              "    <tr>\n",
              "      <th>0</th>\n",
              "      <td>Bachrul Uluum</td>\n",
              "      <td>D3</td>\n",
              "      <td>Civil Engineering</td>\n",
              "      <td>Hacker</td>\n",
              "      <td>Web Developer</td>\n",
              "      <td>Computer Networking Specialist</td>\n",
              "      <td>Database Administrator</td>\n",
              "      <td>4.166666667</td>\n",
              "    </tr>\n",
              "    <tr>\n",
              "      <th>1</th>\n",
              "      <td>Ihlasul Mufti Faqih</td>\n",
              "      <td>S1</td>\n",
              "      <td>Information Technology</td>\n",
              "      <td>Hacker</td>\n",
              "      <td>Data Scientist</td>\n",
              "      <td>Back End Developer</td>\n",
              "      <td>Full Stack Developer</td>\n",
              "      <td>3.9</td>\n",
              "    </tr>\n",
              "    <tr>\n",
              "      <th>2</th>\n",
              "      <td>Raditya Widi Indarsanto</td>\n",
              "      <td>SMA</td>\n",
              "      <td>Science Studies</td>\n",
              "      <td>Hacker</td>\n",
              "      <td>Data Scientist</td>\n",
              "      <td>Software Engineer</td>\n",
              "      <td>AI Specialist</td>\n",
              "      <td>4.5</td>\n",
              "    </tr>\n",
              "    <tr>\n",
              "      <th>3</th>\n",
              "      <td>Benneth Sinto Briliant Siburian</td>\n",
              "      <td>D4</td>\n",
              "      <td>Industrial Technology</td>\n",
              "      <td>Hacker</td>\n",
              "      <td>Software Engineer</td>\n",
              "      <td>AI Specialist</td>\n",
              "      <td>Front End Developer</td>\n",
              "      <td>3.8</td>\n",
              "    </tr>\n",
              "    <tr>\n",
              "      <th>4</th>\n",
              "      <td>I Gusti Bagus Ardavendra</td>\n",
              "      <td>D3</td>\n",
              "      <td>Information Technology</td>\n",
              "      <td>Hacker</td>\n",
              "      <td>AI Specialist</td>\n",
              "      <td>Back End Developer</td>\n",
              "      <td>Computer Networking Specialist</td>\n",
              "      <td>4.3</td>\n",
              "    </tr>\n",
              "    <tr>\n",
              "      <th>...</th>\n",
              "      <td>...</td>\n",
              "      <td>...</td>\n",
              "      <td>...</td>\n",
              "      <td>...</td>\n",
              "      <td>...</td>\n",
              "      <td>...</td>\n",
              "      <td>...</td>\n",
              "      <td>...</td>\n",
              "    </tr>\n",
              "    <tr>\n",
              "      <th>295</th>\n",
              "      <td>Nabila Dewi</td>\n",
              "      <td>D4</td>\n",
              "      <td>Industrial and product Design</td>\n",
              "      <td>Hipster</td>\n",
              "      <td>Digital Strategist</td>\n",
              "      <td>Creative Officer</td>\n",
              "      <td>Digital Strategist</td>\n",
              "      <td>4.333333333</td>\n",
              "    </tr>\n",
              "    <tr>\n",
              "      <th>296</th>\n",
              "      <td>Nadia Prasetyo</td>\n",
              "      <td>D3</td>\n",
              "      <td>Commercial and Advertising Arts</td>\n",
              "      <td>Hipster</td>\n",
              "      <td>Graphic Designer</td>\n",
              "      <td>Art Director</td>\n",
              "      <td>Creative Officer</td>\n",
              "      <td>4.5</td>\n",
              "    </tr>\n",
              "    <tr>\n",
              "      <th>297</th>\n",
              "      <td>Nathan Wijaya</td>\n",
              "      <td>SMA</td>\n",
              "      <td>Science Studies</td>\n",
              "      <td>Hipster</td>\n",
              "      <td>Art Director</td>\n",
              "      <td>Graphic Designer</td>\n",
              "      <td>UI/UX Designer</td>\n",
              "      <td>4.2</td>\n",
              "    </tr>\n",
              "    <tr>\n",
              "      <th>298</th>\n",
              "      <td>Nia Santoso</td>\n",
              "      <td>S1</td>\n",
              "      <td>Visual Communication Design</td>\n",
              "      <td>Hipster</td>\n",
              "      <td>Art Director</td>\n",
              "      <td>UI/UX Designer</td>\n",
              "      <td>Graphic Designer</td>\n",
              "      <td>3.7</td>\n",
              "    </tr>\n",
              "    <tr>\n",
              "      <th>299</th>\n",
              "      <td>Nanda Permata</td>\n",
              "      <td>D4</td>\n",
              "      <td>Industrial and product Design</td>\n",
              "      <td>Hipster</td>\n",
              "      <td>Creative Officer</td>\n",
              "      <td>Art Director</td>\n",
              "      <td>Graphic Designer</td>\n",
              "      <td>4.633333333</td>\n",
              "    </tr>\n",
              "  </tbody>\n",
              "</table>\n",
              "<p>300 rows × 8 columns</p>\n",
              "</div>\n",
              "      <button class=\"colab-df-convert\" onclick=\"convertToInteractive('df-b0b39f6a-4389-4a6e-9c1d-e05e9a8db1ae')\"\n",
              "              title=\"Convert this dataframe to an interactive table.\"\n",
              "              style=\"display:none;\">\n",
              "        \n",
              "  <svg xmlns=\"http://www.w3.org/2000/svg\" height=\"24px\"viewBox=\"0 0 24 24\"\n",
              "       width=\"24px\">\n",
              "    <path d=\"M0 0h24v24H0V0z\" fill=\"none\"/>\n",
              "    <path d=\"M18.56 5.44l.94 2.06.94-2.06 2.06-.94-2.06-.94-.94-2.06-.94 2.06-2.06.94zm-11 1L8.5 8.5l.94-2.06 2.06-.94-2.06-.94L8.5 2.5l-.94 2.06-2.06.94zm10 10l.94 2.06.94-2.06 2.06-.94-2.06-.94-.94-2.06-.94 2.06-2.06.94z\"/><path d=\"M17.41 7.96l-1.37-1.37c-.4-.4-.92-.59-1.43-.59-.52 0-1.04.2-1.43.59L10.3 9.45l-7.72 7.72c-.78.78-.78 2.05 0 2.83L4 21.41c.39.39.9.59 1.41.59.51 0 1.02-.2 1.41-.59l7.78-7.78 2.81-2.81c.8-.78.8-2.07 0-2.86zM5.41 20L4 18.59l7.72-7.72 1.47 1.35L5.41 20z\"/>\n",
              "  </svg>\n",
              "      </button>\n",
              "      \n",
              "  <style>\n",
              "    .colab-df-container {\n",
              "      display:flex;\n",
              "      flex-wrap:wrap;\n",
              "      gap: 12px;\n",
              "    }\n",
              "\n",
              "    .colab-df-convert {\n",
              "      background-color: #E8F0FE;\n",
              "      border: none;\n",
              "      border-radius: 50%;\n",
              "      cursor: pointer;\n",
              "      display: none;\n",
              "      fill: #1967D2;\n",
              "      height: 32px;\n",
              "      padding: 0 0 0 0;\n",
              "      width: 32px;\n",
              "    }\n",
              "\n",
              "    .colab-df-convert:hover {\n",
              "      background-color: #E2EBFA;\n",
              "      box-shadow: 0px 1px 2px rgba(60, 64, 67, 0.3), 0px 1px 3px 1px rgba(60, 64, 67, 0.15);\n",
              "      fill: #174EA6;\n",
              "    }\n",
              "\n",
              "    [theme=dark] .colab-df-convert {\n",
              "      background-color: #3B4455;\n",
              "      fill: #D2E3FC;\n",
              "    }\n",
              "\n",
              "    [theme=dark] .colab-df-convert:hover {\n",
              "      background-color: #434B5C;\n",
              "      box-shadow: 0px 1px 3px 1px rgba(0, 0, 0, 0.15);\n",
              "      filter: drop-shadow(0px 1px 2px rgba(0, 0, 0, 0.3));\n",
              "      fill: #FFFFFF;\n",
              "    }\n",
              "  </style>\n",
              "\n",
              "      <script>\n",
              "        const buttonEl =\n",
              "          document.querySelector('#df-b0b39f6a-4389-4a6e-9c1d-e05e9a8db1ae button.colab-df-convert');\n",
              "        buttonEl.style.display =\n",
              "          google.colab.kernel.accessAllowed ? 'block' : 'none';\n",
              "\n",
              "        async function convertToInteractive(key) {\n",
              "          const element = document.querySelector('#df-b0b39f6a-4389-4a6e-9c1d-e05e9a8db1ae');\n",
              "          const dataTable =\n",
              "            await google.colab.kernel.invokeFunction('convertToInteractive',\n",
              "                                                     [key], {});\n",
              "          if (!dataTable) return;\n",
              "\n",
              "          const docLinkHtml = 'Like what you see? Visit the ' +\n",
              "            '<a target=\"_blank\" href=https://colab.research.google.com/notebooks/data_table.ipynb>data table notebook</a>'\n",
              "            + ' to learn more about interactive tables.';\n",
              "          element.innerHTML = '';\n",
              "          dataTable['output_type'] = 'display_data';\n",
              "          await google.colab.output.renderOutput(dataTable, element);\n",
              "          const docLink = document.createElement('div');\n",
              "          docLink.innerHTML = docLinkHtml;\n",
              "          element.appendChild(docLink);\n",
              "        }\n",
              "      </script>\n",
              "    </div>\n",
              "  </div>\n",
              "  "
            ]
          },
          "metadata": {}
        }
      ]
    },
    {
      "cell_type": "code",
      "source": [
        "data3 = data_mentee_topic_choices.get_all_values()\n",
        "dfdata_mentee_topic_choices = pd.DataFrame(data3)\n",
        "dfdata_mentee_topic_choices = dfdata_mentee_topic_choices.shift(-1)\n",
        "dfdata_mentee_topic_choices.columns = ['Data Analyst', 'Data Engineer', 'Data Scientist', 'Front end Developer', 'Back end Developer', 'Full Stack Developer', 'Web Developer', 'Software Engineer', 'Information Security Analyst', 'AI Specialist', 'Computer Networking Specialist', 'Database Administrator', 'Graphic Designer', 'UI/UX designer', 'Product Developer', 'Art Director', 'Web Designer', 'Art Entrepreneur', 'Business Development', 'Technopreneur', 'Business Consultant', 'Risk Manager', 'Product Manager', 'Market Researcher', 'Financial Analyst', 'Digital Marketing', 'Entrepreneur', 'Digital Business Analysis', 'Operational Manager', 'Retail Manager', 'Executive Business']\n",
        "dfdata_mentee_topic_choices = dfdata_mentee_topic_choices.iloc[:-1]\n",
        "display(dfdata_mentee_topic_choices)"
      ],
      "metadata": {
        "colab": {
          "base_uri": "https://localhost:8080/",
          "height": 522
        },
        "id": "OhJSiTG1B3uK",
        "outputId": "a1a9d0ef-1979-4ebb-fc05-9178df95b24d"
      },
      "execution_count": null,
      "outputs": [
        {
          "output_type": "display_data",
          "data": {
            "text/plain": [
              "    Data Analyst Data Engineer Data Scientist Front end Developer  \\\n",
              "0              0             0              0                   0   \n",
              "1              0             0            3.9                   0   \n",
              "2              0             0            4.5                   0   \n",
              "3              0             0              0                 3.8   \n",
              "4              0             0              0                   0   \n",
              "..           ...           ...            ...                 ...   \n",
              "295            0             0              0                   0   \n",
              "296            0             0              0                   0   \n",
              "297            0             0              0                   0   \n",
              "298            0             0              0                   0   \n",
              "299            0             0              0                   0   \n",
              "\n",
              "    Back end Developer Full Stack Developer Web Developer Software Engineer  \\\n",
              "0                    0                    0             4                 0   \n",
              "1                  3.9                  3.9             0                 0   \n",
              "2                    0                    0             0               4.5   \n",
              "3                    0                    0             0               3.8   \n",
              "4                  4.3                    0             0                 0   \n",
              "..                 ...                  ...           ...               ...   \n",
              "295                  0                    0             0                 0   \n",
              "296                  0                    0             0                 0   \n",
              "297                  0                    0             0                 0   \n",
              "298                  0                    0             0                 0   \n",
              "299                  0                    0             0                 0   \n",
              "\n",
              "    Information Security Analyst AI Specialist  ... Risk Manager  \\\n",
              "0                              0             0  ...            0   \n",
              "1                              0             0  ...            0   \n",
              "2                              0           4.5  ...            0   \n",
              "3                              0           3.8  ...            0   \n",
              "4                              0           4.3  ...            0   \n",
              "..                           ...           ...  ...          ...   \n",
              "295                            0             0  ...            0   \n",
              "296                            0             0  ...            0   \n",
              "297                            0             0  ...            0   \n",
              "298                            0             0  ...            0   \n",
              "299                            0             0  ...            0   \n",
              "\n",
              "    Product Manager Market Researcher Financial Analyst Digital Marketing  \\\n",
              "0                 0                 0                 0                 0   \n",
              "1                 0                 0                 0                 0   \n",
              "2                 0                 0                 0                 0   \n",
              "3                 0                 0                 0                 0   \n",
              "4                 0                 0                 0                 0   \n",
              "..              ...               ...               ...               ...   \n",
              "295               0                 0                 0               4.5   \n",
              "296               0                 0                 0                 0   \n",
              "297               0                 0                 0                 0   \n",
              "298               0                 0                 0                 0   \n",
              "299               0                 0                 0                 0   \n",
              "\n",
              "    Entrepreneur Digital Business Analysis Operational Manager Retail Manager  \\\n",
              "0              0                         0                   0              0   \n",
              "1              0                         0                   0              0   \n",
              "2              0                         0                   0              0   \n",
              "3              0                         0                   0              0   \n",
              "4              0                         0                   0              0   \n",
              "..           ...                       ...                 ...            ...   \n",
              "295            0                         0                   0              0   \n",
              "296            0                         0                   0              0   \n",
              "297            0                         0                   0              0   \n",
              "298            0                         0                   0              0   \n",
              "299            0                         0                   0              0   \n",
              "\n",
              "    Executive Business  \n",
              "0                    0  \n",
              "1                    0  \n",
              "2                    0  \n",
              "3                    0  \n",
              "4                    0  \n",
              "..                 ...  \n",
              "295                4.5  \n",
              "296                4.1  \n",
              "297                  0  \n",
              "298                  0  \n",
              "299                4.7  \n",
              "\n",
              "[300 rows x 31 columns]"
            ],
            "text/html": [
              "\n",
              "  <div id=\"df-b985d51e-288e-4e26-9b4e-889f7ac54b4e\">\n",
              "    <div class=\"colab-df-container\">\n",
              "      <div>\n",
              "<style scoped>\n",
              "    .dataframe tbody tr th:only-of-type {\n",
              "        vertical-align: middle;\n",
              "    }\n",
              "\n",
              "    .dataframe tbody tr th {\n",
              "        vertical-align: top;\n",
              "    }\n",
              "\n",
              "    .dataframe thead th {\n",
              "        text-align: right;\n",
              "    }\n",
              "</style>\n",
              "<table border=\"1\" class=\"dataframe\">\n",
              "  <thead>\n",
              "    <tr style=\"text-align: right;\">\n",
              "      <th></th>\n",
              "      <th>Data Analyst</th>\n",
              "      <th>Data Engineer</th>\n",
              "      <th>Data Scientist</th>\n",
              "      <th>Front end Developer</th>\n",
              "      <th>Back end Developer</th>\n",
              "      <th>Full Stack Developer</th>\n",
              "      <th>Web Developer</th>\n",
              "      <th>Software Engineer</th>\n",
              "      <th>Information Security Analyst</th>\n",
              "      <th>AI Specialist</th>\n",
              "      <th>...</th>\n",
              "      <th>Risk Manager</th>\n",
              "      <th>Product Manager</th>\n",
              "      <th>Market Researcher</th>\n",
              "      <th>Financial Analyst</th>\n",
              "      <th>Digital Marketing</th>\n",
              "      <th>Entrepreneur</th>\n",
              "      <th>Digital Business Analysis</th>\n",
              "      <th>Operational Manager</th>\n",
              "      <th>Retail Manager</th>\n",
              "      <th>Executive Business</th>\n",
              "    </tr>\n",
              "  </thead>\n",
              "  <tbody>\n",
              "    <tr>\n",
              "      <th>0</th>\n",
              "      <td>0</td>\n",
              "      <td>0</td>\n",
              "      <td>0</td>\n",
              "      <td>0</td>\n",
              "      <td>0</td>\n",
              "      <td>0</td>\n",
              "      <td>4</td>\n",
              "      <td>0</td>\n",
              "      <td>0</td>\n",
              "      <td>0</td>\n",
              "      <td>...</td>\n",
              "      <td>0</td>\n",
              "      <td>0</td>\n",
              "      <td>0</td>\n",
              "      <td>0</td>\n",
              "      <td>0</td>\n",
              "      <td>0</td>\n",
              "      <td>0</td>\n",
              "      <td>0</td>\n",
              "      <td>0</td>\n",
              "      <td>0</td>\n",
              "    </tr>\n",
              "    <tr>\n",
              "      <th>1</th>\n",
              "      <td>0</td>\n",
              "      <td>0</td>\n",
              "      <td>3.9</td>\n",
              "      <td>0</td>\n",
              "      <td>3.9</td>\n",
              "      <td>3.9</td>\n",
              "      <td>0</td>\n",
              "      <td>0</td>\n",
              "      <td>0</td>\n",
              "      <td>0</td>\n",
              "      <td>...</td>\n",
              "      <td>0</td>\n",
              "      <td>0</td>\n",
              "      <td>0</td>\n",
              "      <td>0</td>\n",
              "      <td>0</td>\n",
              "      <td>0</td>\n",
              "      <td>0</td>\n",
              "      <td>0</td>\n",
              "      <td>0</td>\n",
              "      <td>0</td>\n",
              "    </tr>\n",
              "    <tr>\n",
              "      <th>2</th>\n",
              "      <td>0</td>\n",
              "      <td>0</td>\n",
              "      <td>4.5</td>\n",
              "      <td>0</td>\n",
              "      <td>0</td>\n",
              "      <td>0</td>\n",
              "      <td>0</td>\n",
              "      <td>4.5</td>\n",
              "      <td>0</td>\n",
              "      <td>4.5</td>\n",
              "      <td>...</td>\n",
              "      <td>0</td>\n",
              "      <td>0</td>\n",
              "      <td>0</td>\n",
              "      <td>0</td>\n",
              "      <td>0</td>\n",
              "      <td>0</td>\n",
              "      <td>0</td>\n",
              "      <td>0</td>\n",
              "      <td>0</td>\n",
              "      <td>0</td>\n",
              "    </tr>\n",
              "    <tr>\n",
              "      <th>3</th>\n",
              "      <td>0</td>\n",
              "      <td>0</td>\n",
              "      <td>0</td>\n",
              "      <td>3.8</td>\n",
              "      <td>0</td>\n",
              "      <td>0</td>\n",
              "      <td>0</td>\n",
              "      <td>3.8</td>\n",
              "      <td>0</td>\n",
              "      <td>3.8</td>\n",
              "      <td>...</td>\n",
              "      <td>0</td>\n",
              "      <td>0</td>\n",
              "      <td>0</td>\n",
              "      <td>0</td>\n",
              "      <td>0</td>\n",
              "      <td>0</td>\n",
              "      <td>0</td>\n",
              "      <td>0</td>\n",
              "      <td>0</td>\n",
              "      <td>0</td>\n",
              "    </tr>\n",
              "    <tr>\n",
              "      <th>4</th>\n",
              "      <td>0</td>\n",
              "      <td>0</td>\n",
              "      <td>0</td>\n",
              "      <td>0</td>\n",
              "      <td>4.3</td>\n",
              "      <td>0</td>\n",
              "      <td>0</td>\n",
              "      <td>0</td>\n",
              "      <td>0</td>\n",
              "      <td>4.3</td>\n",
              "      <td>...</td>\n",
              "      <td>0</td>\n",
              "      <td>0</td>\n",
              "      <td>0</td>\n",
              "      <td>0</td>\n",
              "      <td>0</td>\n",
              "      <td>0</td>\n",
              "      <td>0</td>\n",
              "      <td>0</td>\n",
              "      <td>0</td>\n",
              "      <td>0</td>\n",
              "    </tr>\n",
              "    <tr>\n",
              "      <th>...</th>\n",
              "      <td>...</td>\n",
              "      <td>...</td>\n",
              "      <td>...</td>\n",
              "      <td>...</td>\n",
              "      <td>...</td>\n",
              "      <td>...</td>\n",
              "      <td>...</td>\n",
              "      <td>...</td>\n",
              "      <td>...</td>\n",
              "      <td>...</td>\n",
              "      <td>...</td>\n",
              "      <td>...</td>\n",
              "      <td>...</td>\n",
              "      <td>...</td>\n",
              "      <td>...</td>\n",
              "      <td>...</td>\n",
              "      <td>...</td>\n",
              "      <td>...</td>\n",
              "      <td>...</td>\n",
              "      <td>...</td>\n",
              "      <td>...</td>\n",
              "    </tr>\n",
              "    <tr>\n",
              "      <th>295</th>\n",
              "      <td>0</td>\n",
              "      <td>0</td>\n",
              "      <td>0</td>\n",
              "      <td>0</td>\n",
              "      <td>0</td>\n",
              "      <td>0</td>\n",
              "      <td>0</td>\n",
              "      <td>0</td>\n",
              "      <td>0</td>\n",
              "      <td>0</td>\n",
              "      <td>...</td>\n",
              "      <td>0</td>\n",
              "      <td>0</td>\n",
              "      <td>0</td>\n",
              "      <td>0</td>\n",
              "      <td>4.5</td>\n",
              "      <td>0</td>\n",
              "      <td>0</td>\n",
              "      <td>0</td>\n",
              "      <td>0</td>\n",
              "      <td>4.5</td>\n",
              "    </tr>\n",
              "    <tr>\n",
              "      <th>296</th>\n",
              "      <td>0</td>\n",
              "      <td>0</td>\n",
              "      <td>0</td>\n",
              "      <td>0</td>\n",
              "      <td>0</td>\n",
              "      <td>0</td>\n",
              "      <td>0</td>\n",
              "      <td>0</td>\n",
              "      <td>0</td>\n",
              "      <td>0</td>\n",
              "      <td>...</td>\n",
              "      <td>0</td>\n",
              "      <td>0</td>\n",
              "      <td>0</td>\n",
              "      <td>0</td>\n",
              "      <td>0</td>\n",
              "      <td>0</td>\n",
              "      <td>0</td>\n",
              "      <td>0</td>\n",
              "      <td>0</td>\n",
              "      <td>4.1</td>\n",
              "    </tr>\n",
              "    <tr>\n",
              "      <th>297</th>\n",
              "      <td>0</td>\n",
              "      <td>0</td>\n",
              "      <td>0</td>\n",
              "      <td>0</td>\n",
              "      <td>0</td>\n",
              "      <td>0</td>\n",
              "      <td>0</td>\n",
              "      <td>0</td>\n",
              "      <td>0</td>\n",
              "      <td>0</td>\n",
              "      <td>...</td>\n",
              "      <td>0</td>\n",
              "      <td>0</td>\n",
              "      <td>0</td>\n",
              "      <td>0</td>\n",
              "      <td>0</td>\n",
              "      <td>0</td>\n",
              "      <td>0</td>\n",
              "      <td>0</td>\n",
              "      <td>0</td>\n",
              "      <td>0</td>\n",
              "    </tr>\n",
              "    <tr>\n",
              "      <th>298</th>\n",
              "      <td>0</td>\n",
              "      <td>0</td>\n",
              "      <td>0</td>\n",
              "      <td>0</td>\n",
              "      <td>0</td>\n",
              "      <td>0</td>\n",
              "      <td>0</td>\n",
              "      <td>0</td>\n",
              "      <td>0</td>\n",
              "      <td>0</td>\n",
              "      <td>...</td>\n",
              "      <td>0</td>\n",
              "      <td>0</td>\n",
              "      <td>0</td>\n",
              "      <td>0</td>\n",
              "      <td>0</td>\n",
              "      <td>0</td>\n",
              "      <td>0</td>\n",
              "      <td>0</td>\n",
              "      <td>0</td>\n",
              "      <td>0</td>\n",
              "    </tr>\n",
              "    <tr>\n",
              "      <th>299</th>\n",
              "      <td>0</td>\n",
              "      <td>0</td>\n",
              "      <td>0</td>\n",
              "      <td>0</td>\n",
              "      <td>0</td>\n",
              "      <td>0</td>\n",
              "      <td>0</td>\n",
              "      <td>0</td>\n",
              "      <td>0</td>\n",
              "      <td>0</td>\n",
              "      <td>...</td>\n",
              "      <td>0</td>\n",
              "      <td>0</td>\n",
              "      <td>0</td>\n",
              "      <td>0</td>\n",
              "      <td>0</td>\n",
              "      <td>0</td>\n",
              "      <td>0</td>\n",
              "      <td>0</td>\n",
              "      <td>0</td>\n",
              "      <td>4.7</td>\n",
              "    </tr>\n",
              "  </tbody>\n",
              "</table>\n",
              "<p>300 rows × 31 columns</p>\n",
              "</div>\n",
              "      <button class=\"colab-df-convert\" onclick=\"convertToInteractive('df-b985d51e-288e-4e26-9b4e-889f7ac54b4e')\"\n",
              "              title=\"Convert this dataframe to an interactive table.\"\n",
              "              style=\"display:none;\">\n",
              "        \n",
              "  <svg xmlns=\"http://www.w3.org/2000/svg\" height=\"24px\"viewBox=\"0 0 24 24\"\n",
              "       width=\"24px\">\n",
              "    <path d=\"M0 0h24v24H0V0z\" fill=\"none\"/>\n",
              "    <path d=\"M18.56 5.44l.94 2.06.94-2.06 2.06-.94-2.06-.94-.94-2.06-.94 2.06-2.06.94zm-11 1L8.5 8.5l.94-2.06 2.06-.94-2.06-.94L8.5 2.5l-.94 2.06-2.06.94zm10 10l.94 2.06.94-2.06 2.06-.94-2.06-.94-.94-2.06-.94 2.06-2.06.94z\"/><path d=\"M17.41 7.96l-1.37-1.37c-.4-.4-.92-.59-1.43-.59-.52 0-1.04.2-1.43.59L10.3 9.45l-7.72 7.72c-.78.78-.78 2.05 0 2.83L4 21.41c.39.39.9.59 1.41.59.51 0 1.02-.2 1.41-.59l7.78-7.78 2.81-2.81c.8-.78.8-2.07 0-2.86zM5.41 20L4 18.59l7.72-7.72 1.47 1.35L5.41 20z\"/>\n",
              "  </svg>\n",
              "      </button>\n",
              "      \n",
              "  <style>\n",
              "    .colab-df-container {\n",
              "      display:flex;\n",
              "      flex-wrap:wrap;\n",
              "      gap: 12px;\n",
              "    }\n",
              "\n",
              "    .colab-df-convert {\n",
              "      background-color: #E8F0FE;\n",
              "      border: none;\n",
              "      border-radius: 50%;\n",
              "      cursor: pointer;\n",
              "      display: none;\n",
              "      fill: #1967D2;\n",
              "      height: 32px;\n",
              "      padding: 0 0 0 0;\n",
              "      width: 32px;\n",
              "    }\n",
              "\n",
              "    .colab-df-convert:hover {\n",
              "      background-color: #E2EBFA;\n",
              "      box-shadow: 0px 1px 2px rgba(60, 64, 67, 0.3), 0px 1px 3px 1px rgba(60, 64, 67, 0.15);\n",
              "      fill: #174EA6;\n",
              "    }\n",
              "\n",
              "    [theme=dark] .colab-df-convert {\n",
              "      background-color: #3B4455;\n",
              "      fill: #D2E3FC;\n",
              "    }\n",
              "\n",
              "    [theme=dark] .colab-df-convert:hover {\n",
              "      background-color: #434B5C;\n",
              "      box-shadow: 0px 1px 3px 1px rgba(0, 0, 0, 0.15);\n",
              "      filter: drop-shadow(0px 1px 2px rgba(0, 0, 0, 0.3));\n",
              "      fill: #FFFFFF;\n",
              "    }\n",
              "  </style>\n",
              "\n",
              "      <script>\n",
              "        const buttonEl =\n",
              "          document.querySelector('#df-b985d51e-288e-4e26-9b4e-889f7ac54b4e button.colab-df-convert');\n",
              "        buttonEl.style.display =\n",
              "          google.colab.kernel.accessAllowed ? 'block' : 'none';\n",
              "\n",
              "        async function convertToInteractive(key) {\n",
              "          const element = document.querySelector('#df-b985d51e-288e-4e26-9b4e-889f7ac54b4e');\n",
              "          const dataTable =\n",
              "            await google.colab.kernel.invokeFunction('convertToInteractive',\n",
              "                                                     [key], {});\n",
              "          if (!dataTable) return;\n",
              "\n",
              "          const docLinkHtml = 'Like what you see? Visit the ' +\n",
              "            '<a target=\"_blank\" href=https://colab.research.google.com/notebooks/data_table.ipynb>data table notebook</a>'\n",
              "            + ' to learn more about interactive tables.';\n",
              "          element.innerHTML = '';\n",
              "          dataTable['output_type'] = 'display_data';\n",
              "          await google.colab.output.renderOutput(dataTable, element);\n",
              "          const docLink = document.createElement('div');\n",
              "          docLink.innerHTML = docLinkHtml;\n",
              "          element.appendChild(docLink);\n",
              "        }\n",
              "      </script>\n",
              "    </div>\n",
              "  </div>\n",
              "  "
            ]
          },
          "metadata": {}
        }
      ]
    },
    {
      "cell_type": "markdown",
      "source": [
        "Labeling/Data Encoding"
      ],
      "metadata": {
        "id": "GqS0ANsK_OJi"
      }
    },
    {
      "cell_type": "code",
      "source": [
        "from sklearn.preprocessing import LabelEncoder"
      ],
      "metadata": {
        "id": "ih_RoHBU84qv"
      },
      "execution_count": null,
      "outputs": []
    },
    {
      "cell_type": "markdown",
      "source": [
        "# **Data Mentor Encoding**"
      ],
      "metadata": {
        "id": "XOe5lHelGz1n"
      }
    },
    {
      "cell_type": "code",
      "source": [
        "dfdata_mentor_role = dfdata_mentor[\"Role\"]\n",
        "dfdata_mentor_role = pd.DataFrame(dfdata_mentor_role)\n",
        "\n",
        "label_encoder = LabelEncoder()\n",
        "dfdata_mentor_role['role_encoded'] = label_encoder.fit_transform(dfdata_mentor[\"Role\"])\n",
        "\n",
        "role_mentor = dfdata_mentor_role.iloc[:,-1]\n",
        "role_mentor = pd.DataFrame(role_mentor)\n"
      ],
      "metadata": {
        "id": "TFR9RMPS_n5z"
      },
      "execution_count": null,
      "outputs": []
    },
    {
      "cell_type": "code",
      "source": [
        "dfdata_mentor_late_edu = dfdata_mentor[\"Latest Education\"]\n",
        "dfdata_mentor_late_edu = pd.DataFrame(dfdata_mentor_late_edu)\n",
        "\n",
        "label_encoder = LabelEncoder()\n",
        "dfdata_mentor_late_edu['late_edu_encoded'] = label_encoder.fit_transform(dfdata_mentor[\"Latest Education\"])\n",
        "\n",
        "late_edu_mentor = dfdata_mentor_late_edu.iloc[:,-1]\n",
        "late_edu_mentor = pd.DataFrame(late_edu_mentor)"
      ],
      "metadata": {
        "id": "mck1gnRsEAro"
      },
      "execution_count": null,
      "outputs": []
    },
    {
      "cell_type": "code",
      "source": [
        "dfdata_mentor_edu_back = dfdata_mentor[\"Educational Background\"]\n",
        "dfdata_mentor_edu_back = pd.DataFrame(dfdata_mentor_edu_back)\n",
        "\n",
        "label_encoder = LabelEncoder()\n",
        "dfdata_mentor_edu_back['edu_back_encoded'] = label_encoder.fit_transform(dfdata_mentor[\"Educational Background\"])\n",
        "\n",
        "edu_back_mentor = dfdata_mentor_edu_back.iloc[:,-1]\n",
        "edu_back_mentor = pd.DataFrame(edu_back_mentor)"
      ],
      "metadata": {
        "id": "nl02-7XgEWmj"
      },
      "execution_count": null,
      "outputs": []
    },
    {
      "cell_type": "code",
      "source": [
        "dfdata_mentor_exp = dfdata_mentor[\"Experience\"]\n",
        "dfdata_mentor_exp = pd.DataFrame(dfdata_mentor_exp)\n",
        "\n",
        "label_encoder = LabelEncoder()\n",
        "dfdata_mentor_exp['Experience_encoded'] = label_encoder.fit_transform(dfdata_mentor[\"Experience\"])\n",
        "\n",
        "exp_mentor = dfdata_mentor_exp.iloc[:,-1]\n",
        "exp_mentor = pd.DataFrame(exp_mentor)"
      ],
      "metadata": {
        "id": "ppp2KB9YFkXW"
      },
      "execution_count": null,
      "outputs": []
    },
    {
      "cell_type": "code",
      "source": [
        "dfdata_mentor_work = dfdata_mentor[\"Work Position\"]\n",
        "dfdata_mentor_work = pd.DataFrame(dfdata_mentor_work)\n",
        "\n",
        "label_encoder = LabelEncoder()\n",
        "dfdata_mentor_work['WorkPosition_encoded'] = label_encoder.fit_transform(dfdata_mentor[\"Work Position\"])\n",
        "\n",
        "work_mentor = dfdata_mentor_work.iloc[:,-1]\n",
        "work_mentor = pd.DataFrame(work_mentor)"
      ],
      "metadata": {
        "id": "RacY5eB-GBvz"
      },
      "execution_count": null,
      "outputs": []
    },
    {
      "cell_type": "markdown",
      "source": [
        "Scaling Rating dan Profile Views"
      ],
      "metadata": {
        "id": "lXSYbLuOLVMR"
      }
    },
    {
      "cell_type": "code",
      "source": [
        "from sklearn.preprocessing import StandardScaler, MinMaxScaler"
      ],
      "metadata": {
        "id": "TPv6ua7tKYVj"
      },
      "execution_count": null,
      "outputs": []
    },
    {
      "cell_type": "code",
      "source": [
        "mentor_rating = pd.DataFrame(dfdata_mentor[\"Rating\"])"
      ],
      "metadata": {
        "id": "BqGJujGqMUIa"
      },
      "execution_count": null,
      "outputs": []
    },
    {
      "cell_type": "code",
      "source": [
        "mentor_views = pd.DataFrame(dfdata_mentor[\"Profile Views\"])"
      ],
      "metadata": {
        "id": "62dbodXyNbBs"
      },
      "execution_count": null,
      "outputs": []
    },
    {
      "cell_type": "code",
      "source": [
        "scaler = StandardScaler()\n",
        "\n",
        "scaled_data_rating = scaler.fit_transform(mentor_rating)\n",
        "scaled_data_views = scaler.fit_transform(mentor_views)"
      ],
      "metadata": {
        "id": "GlTlHtl5LUo3"
      },
      "execution_count": null,
      "outputs": []
    },
    {
      "cell_type": "code",
      "source": [
        "scaled_data_rating=pd.DataFrame(scaled_data_rating)\n",
        "scaled_data_views=pd.DataFrame(scaled_data_views)"
      ],
      "metadata": {
        "id": "9OCRaM23m64e"
      },
      "execution_count": null,
      "outputs": []
    },
    {
      "cell_type": "code",
      "source": [
        "#data mentor gabungan dari beberapa kolom yang sudah di encoding\n",
        "nama_mentor = dfdata_mentor.iloc[:,0]\n",
        "#rating_mentor = dfdata_mentor.iloc[:,6]\n",
        "#views_mentor = dfdata_mentor.iloc[:,7]\n",
        "data_mentor = pd.concat([nama_mentor,role_mentor,late_edu_mentor,edu_back_mentor,exp_mentor,work_mentor,scaled_data_rating,scaled_data_views], axis=1)\n",
        "data_mentor.columns=['Name','Latest Education','Educational Background','Experience','Work Position','Role','Rating','Profile Views']\n",
        "data_mentor"
      ],
      "metadata": {
        "colab": {
          "base_uri": "https://localhost:8080/",
          "height": 424
        },
        "id": "3IVhPuo2rBm9",
        "outputId": "f81cec80-9aa1-41f1-9e70-140a523cec15"
      },
      "execution_count": null,
      "outputs": [
        {
          "output_type": "execute_result",
          "data": {
            "text/plain": [
              "                   Name  Latest Education  Educational Background  Experience  \\\n",
              "0          Budi Sumarto                 0                       2           7   \n",
              "1    Dian Sastrowardoyo                 0                       3           7   \n",
              "2            Joko Anwar                 0                       4           3   \n",
              "3          Agnes Monica                 0                       0           9   \n",
              "4        Raisa Andriana                 0                       2           3   \n",
              "..                  ...               ...                     ...         ...   \n",
              "295        Dewi Nugraha                 1                       0           5   \n",
              "296           Dini Dewi                 1                       1           8   \n",
              "297        Dicky Wijaya                 1                       2           4   \n",
              "298       Dinda Susanto                 1                       3          12   \n",
              "299         Dian Wibowo                 1                       2           5   \n",
              "\n",
              "     Work Position  Role    Rating  Profile Views  \n",
              "0                3    27  0.973888      -0.222282  \n",
              "1                1    17  1.186683      -0.028074  \n",
              "2                2    10  1.399477      -0.185378  \n",
              "3                1    30 -0.090083      -0.177338  \n",
              "4                3    20 -0.728466       0.989767  \n",
              "..             ...   ...       ...            ...  \n",
              "295              2    13 -0.302877      -0.402677  \n",
              "296              3    19  0.761094      -0.665950  \n",
              "297              2    13  0.761094      -0.160844  \n",
              "298              2    19 -0.728466      -0.997259  \n",
              "299              1     1  1.186683       0.095832  \n",
              "\n",
              "[300 rows x 8 columns]"
            ],
            "text/html": [
              "\n",
              "  <div id=\"df-9652960c-6119-466d-bce3-4d03dcf46fc3\">\n",
              "    <div class=\"colab-df-container\">\n",
              "      <div>\n",
              "<style scoped>\n",
              "    .dataframe tbody tr th:only-of-type {\n",
              "        vertical-align: middle;\n",
              "    }\n",
              "\n",
              "    .dataframe tbody tr th {\n",
              "        vertical-align: top;\n",
              "    }\n",
              "\n",
              "    .dataframe thead th {\n",
              "        text-align: right;\n",
              "    }\n",
              "</style>\n",
              "<table border=\"1\" class=\"dataframe\">\n",
              "  <thead>\n",
              "    <tr style=\"text-align: right;\">\n",
              "      <th></th>\n",
              "      <th>Name</th>\n",
              "      <th>Latest Education</th>\n",
              "      <th>Educational Background</th>\n",
              "      <th>Experience</th>\n",
              "      <th>Work Position</th>\n",
              "      <th>Role</th>\n",
              "      <th>Rating</th>\n",
              "      <th>Profile Views</th>\n",
              "    </tr>\n",
              "  </thead>\n",
              "  <tbody>\n",
              "    <tr>\n",
              "      <th>0</th>\n",
              "      <td>Budi Sumarto</td>\n",
              "      <td>0</td>\n",
              "      <td>2</td>\n",
              "      <td>7</td>\n",
              "      <td>3</td>\n",
              "      <td>27</td>\n",
              "      <td>0.973888</td>\n",
              "      <td>-0.222282</td>\n",
              "    </tr>\n",
              "    <tr>\n",
              "      <th>1</th>\n",
              "      <td>Dian Sastrowardoyo</td>\n",
              "      <td>0</td>\n",
              "      <td>3</td>\n",
              "      <td>7</td>\n",
              "      <td>1</td>\n",
              "      <td>17</td>\n",
              "      <td>1.186683</td>\n",
              "      <td>-0.028074</td>\n",
              "    </tr>\n",
              "    <tr>\n",
              "      <th>2</th>\n",
              "      <td>Joko Anwar</td>\n",
              "      <td>0</td>\n",
              "      <td>4</td>\n",
              "      <td>3</td>\n",
              "      <td>2</td>\n",
              "      <td>10</td>\n",
              "      <td>1.399477</td>\n",
              "      <td>-0.185378</td>\n",
              "    </tr>\n",
              "    <tr>\n",
              "      <th>3</th>\n",
              "      <td>Agnes Monica</td>\n",
              "      <td>0</td>\n",
              "      <td>0</td>\n",
              "      <td>9</td>\n",
              "      <td>1</td>\n",
              "      <td>30</td>\n",
              "      <td>-0.090083</td>\n",
              "      <td>-0.177338</td>\n",
              "    </tr>\n",
              "    <tr>\n",
              "      <th>4</th>\n",
              "      <td>Raisa Andriana</td>\n",
              "      <td>0</td>\n",
              "      <td>2</td>\n",
              "      <td>3</td>\n",
              "      <td>3</td>\n",
              "      <td>20</td>\n",
              "      <td>-0.728466</td>\n",
              "      <td>0.989767</td>\n",
              "    </tr>\n",
              "    <tr>\n",
              "      <th>...</th>\n",
              "      <td>...</td>\n",
              "      <td>...</td>\n",
              "      <td>...</td>\n",
              "      <td>...</td>\n",
              "      <td>...</td>\n",
              "      <td>...</td>\n",
              "      <td>...</td>\n",
              "      <td>...</td>\n",
              "    </tr>\n",
              "    <tr>\n",
              "      <th>295</th>\n",
              "      <td>Dewi Nugraha</td>\n",
              "      <td>1</td>\n",
              "      <td>0</td>\n",
              "      <td>5</td>\n",
              "      <td>2</td>\n",
              "      <td>13</td>\n",
              "      <td>-0.302877</td>\n",
              "      <td>-0.402677</td>\n",
              "    </tr>\n",
              "    <tr>\n",
              "      <th>296</th>\n",
              "      <td>Dini Dewi</td>\n",
              "      <td>1</td>\n",
              "      <td>1</td>\n",
              "      <td>8</td>\n",
              "      <td>3</td>\n",
              "      <td>19</td>\n",
              "      <td>0.761094</td>\n",
              "      <td>-0.665950</td>\n",
              "    </tr>\n",
              "    <tr>\n",
              "      <th>297</th>\n",
              "      <td>Dicky Wijaya</td>\n",
              "      <td>1</td>\n",
              "      <td>2</td>\n",
              "      <td>4</td>\n",
              "      <td>2</td>\n",
              "      <td>13</td>\n",
              "      <td>0.761094</td>\n",
              "      <td>-0.160844</td>\n",
              "    </tr>\n",
              "    <tr>\n",
              "      <th>298</th>\n",
              "      <td>Dinda Susanto</td>\n",
              "      <td>1</td>\n",
              "      <td>3</td>\n",
              "      <td>12</td>\n",
              "      <td>2</td>\n",
              "      <td>19</td>\n",
              "      <td>-0.728466</td>\n",
              "      <td>-0.997259</td>\n",
              "    </tr>\n",
              "    <tr>\n",
              "      <th>299</th>\n",
              "      <td>Dian Wibowo</td>\n",
              "      <td>1</td>\n",
              "      <td>2</td>\n",
              "      <td>5</td>\n",
              "      <td>1</td>\n",
              "      <td>1</td>\n",
              "      <td>1.186683</td>\n",
              "      <td>0.095832</td>\n",
              "    </tr>\n",
              "  </tbody>\n",
              "</table>\n",
              "<p>300 rows × 8 columns</p>\n",
              "</div>\n",
              "      <button class=\"colab-df-convert\" onclick=\"convertToInteractive('df-9652960c-6119-466d-bce3-4d03dcf46fc3')\"\n",
              "              title=\"Convert this dataframe to an interactive table.\"\n",
              "              style=\"display:none;\">\n",
              "        \n",
              "  <svg xmlns=\"http://www.w3.org/2000/svg\" height=\"24px\"viewBox=\"0 0 24 24\"\n",
              "       width=\"24px\">\n",
              "    <path d=\"M0 0h24v24H0V0z\" fill=\"none\"/>\n",
              "    <path d=\"M18.56 5.44l.94 2.06.94-2.06 2.06-.94-2.06-.94-.94-2.06-.94 2.06-2.06.94zm-11 1L8.5 8.5l.94-2.06 2.06-.94-2.06-.94L8.5 2.5l-.94 2.06-2.06.94zm10 10l.94 2.06.94-2.06 2.06-.94-2.06-.94-.94-2.06-.94 2.06-2.06.94z\"/><path d=\"M17.41 7.96l-1.37-1.37c-.4-.4-.92-.59-1.43-.59-.52 0-1.04.2-1.43.59L10.3 9.45l-7.72 7.72c-.78.78-.78 2.05 0 2.83L4 21.41c.39.39.9.59 1.41.59.51 0 1.02-.2 1.41-.59l7.78-7.78 2.81-2.81c.8-.78.8-2.07 0-2.86zM5.41 20L4 18.59l7.72-7.72 1.47 1.35L5.41 20z\"/>\n",
              "  </svg>\n",
              "      </button>\n",
              "      \n",
              "  <style>\n",
              "    .colab-df-container {\n",
              "      display:flex;\n",
              "      flex-wrap:wrap;\n",
              "      gap: 12px;\n",
              "    }\n",
              "\n",
              "    .colab-df-convert {\n",
              "      background-color: #E8F0FE;\n",
              "      border: none;\n",
              "      border-radius: 50%;\n",
              "      cursor: pointer;\n",
              "      display: none;\n",
              "      fill: #1967D2;\n",
              "      height: 32px;\n",
              "      padding: 0 0 0 0;\n",
              "      width: 32px;\n",
              "    }\n",
              "\n",
              "    .colab-df-convert:hover {\n",
              "      background-color: #E2EBFA;\n",
              "      box-shadow: 0px 1px 2px rgba(60, 64, 67, 0.3), 0px 1px 3px 1px rgba(60, 64, 67, 0.15);\n",
              "      fill: #174EA6;\n",
              "    }\n",
              "\n",
              "    [theme=dark] .colab-df-convert {\n",
              "      background-color: #3B4455;\n",
              "      fill: #D2E3FC;\n",
              "    }\n",
              "\n",
              "    [theme=dark] .colab-df-convert:hover {\n",
              "      background-color: #434B5C;\n",
              "      box-shadow: 0px 1px 3px 1px rgba(0, 0, 0, 0.15);\n",
              "      filter: drop-shadow(0px 1px 2px rgba(0, 0, 0, 0.3));\n",
              "      fill: #FFFFFF;\n",
              "    }\n",
              "  </style>\n",
              "\n",
              "      <script>\n",
              "        const buttonEl =\n",
              "          document.querySelector('#df-9652960c-6119-466d-bce3-4d03dcf46fc3 button.colab-df-convert');\n",
              "        buttonEl.style.display =\n",
              "          google.colab.kernel.accessAllowed ? 'block' : 'none';\n",
              "\n",
              "        async function convertToInteractive(key) {\n",
              "          const element = document.querySelector('#df-9652960c-6119-466d-bce3-4d03dcf46fc3');\n",
              "          const dataTable =\n",
              "            await google.colab.kernel.invokeFunction('convertToInteractive',\n",
              "                                                     [key], {});\n",
              "          if (!dataTable) return;\n",
              "\n",
              "          const docLinkHtml = 'Like what you see? Visit the ' +\n",
              "            '<a target=\"_blank\" href=https://colab.research.google.com/notebooks/data_table.ipynb>data table notebook</a>'\n",
              "            + ' to learn more about interactive tables.';\n",
              "          element.innerHTML = '';\n",
              "          dataTable['output_type'] = 'display_data';\n",
              "          await google.colab.output.renderOutput(dataTable, element);\n",
              "          const docLink = document.createElement('div');\n",
              "          docLink.innerHTML = docLinkHtml;\n",
              "          element.appendChild(docLink);\n",
              "        }\n",
              "      </script>\n",
              "    </div>\n",
              "  </div>\n",
              "  "
            ]
          },
          "metadata": {},
          "execution_count": 26
        }
      ]
    },
    {
      "cell_type": "markdown",
      "source": [
        "#**Data Mentee Encoding**"
      ],
      "metadata": {
        "id": "-eMnzfkJG59J"
      }
    },
    {
      "cell_type": "code",
      "source": [
        "dfdata_mentee_role = dfdata_mentee[\"Role\"]\n",
        "dfdata_mentee_role = pd.DataFrame(dfdata_mentee_role)\n",
        "\n",
        "label_encoder = LabelEncoder()\n",
        "dfdata_mentee_role['role_encoded'] = label_encoder.fit_transform(dfdata_mentee[\"Role\"])\n",
        "\n",
        "role_mentee = dfdata_mentee_role.iloc[:,-1]\n",
        "role_mentee = pd.DataFrame(role_mentee)"
      ],
      "metadata": {
        "id": "XnH_9YPdG79m"
      },
      "execution_count": null,
      "outputs": []
    },
    {
      "cell_type": "code",
      "source": [
        "dfdata_mentee_late_edu = dfdata_mentee[\"Latest Education\"]\n",
        "dfdata_mentee_late_edu = pd.DataFrame(dfdata_mentee_late_edu)\n",
        "\n",
        "label_encoder = LabelEncoder()\n",
        "dfdata_mentee_late_edu['late_edu_encoded'] = label_encoder.fit_transform(dfdata_mentee[\"Latest Education\"])\n",
        "\n",
        "late_edu_mentee = dfdata_mentee_late_edu.iloc[:,-1]\n",
        "late_edu_mentee = pd.DataFrame(late_edu_mentee)"
      ],
      "metadata": {
        "id": "SFrWwGRiHXsW"
      },
      "execution_count": null,
      "outputs": []
    },
    {
      "cell_type": "code",
      "source": [
        "dfdata_mentee_edu_back = dfdata_mentee[\"Educational Background\"]\n",
        "dfdata_mentee_edu_back = pd.DataFrame(dfdata_mentee_edu_back)\n",
        "\n",
        "label_encoder = LabelEncoder()\n",
        "dfdata_mentee_edu_back['edu_back_encoded'] = label_encoder.fit_transform(dfdata_mentee[\"Educational Background\"])\n",
        "\n",
        "edu_back_mentee = dfdata_mentee_edu_back.iloc[:,-1]\n",
        "edu_back_mentee = pd.DataFrame(edu_back_mentee)"
      ],
      "metadata": {
        "id": "nmHZ4At7vbzw"
      },
      "execution_count": null,
      "outputs": []
    },
    {
      "cell_type": "code",
      "source": [
        "dfdata_mentee_topic1 = dfdata_mentee[\"Topic 1\"]\n",
        "dfdata_mentee_topic1 = pd.DataFrame(dfdata_mentee_topic1)\n",
        "\n",
        "label_encoder = LabelEncoder()\n",
        "dfdata_mentee_topic1['Topic1_encoded'] = label_encoder.fit_transform(dfdata_mentee[\"Topic 1\"])\n",
        "\n",
        "topic1_mentee = dfdata_mentee_topic1.iloc[:,-1]\n",
        "topic1_mentee = pd.DataFrame(topic1_mentee)"
      ],
      "metadata": {
        "id": "m53JJBg4HjUJ"
      },
      "execution_count": null,
      "outputs": []
    },
    {
      "cell_type": "code",
      "source": [
        "dfdata_mentee_topic2 = dfdata_mentee[\"Topic 2\"]\n",
        "dfdata_mentee_topic2 = pd.DataFrame(dfdata_mentee_topic2)\n",
        "\n",
        "label_encoder = LabelEncoder()\n",
        "dfdata_mentee_topic2['Topic2_encoded'] = label_encoder.fit_transform(dfdata_mentee[\"Topic 2\"])\n",
        "\n",
        "topic2_mentee = dfdata_mentee_topic2.iloc[:,-1]\n",
        "topic2_mentee = pd.DataFrame(topic2_mentee)"
      ],
      "metadata": {
        "id": "MlQNVHK24M4c"
      },
      "execution_count": null,
      "outputs": []
    },
    {
      "cell_type": "code",
      "source": [
        "dfdata_mentee_topic3 = dfdata_mentee[\"Topic 3\"]\n",
        "dfdata_mentee_topic3 = pd.DataFrame(dfdata_mentee_topic3)\n",
        "\n",
        "label_encoder = LabelEncoder()\n",
        "dfdata_mentee_topic3['Topic3_encoded'] = label_encoder.fit_transform(dfdata_mentee[\"Topic 3\"])\n",
        "\n",
        "topic3_mentee = dfdata_mentee_topic3.iloc[:,-1]\n",
        "topic3_mentee = pd.DataFrame(topic3_mentee)"
      ],
      "metadata": {
        "id": "E3bJE6vd4acL"
      },
      "execution_count": null,
      "outputs": []
    },
    {
      "cell_type": "code",
      "source": [
        "#data mentee gabungan dari beberapa kolom yang sudah di encoding\n",
        "nama_mentee = dfdata_mentee.iloc[:,0]\n",
        "data_mentee = pd.concat([nama_mentee,role_mentee,late_edu_mentee,edu_back_mentee, topic1_mentee, topic2_mentee, topic3_mentee], axis=1)\n",
        "data_mentee"
      ],
      "metadata": {
        "colab": {
          "base_uri": "https://localhost:8080/",
          "height": 424
        },
        "id": "xm8SFbszM-Ay",
        "outputId": "03216a85-eceb-4e1e-881e-52cb03a681bc"
      },
      "execution_count": null,
      "outputs": [
        {
          "output_type": "execute_result",
          "data": {
            "text/plain": [
              "                                Name  role_encoded  late_edu_encoded  \\\n",
              "0                      Bachrul Uluum             0                 0   \n",
              "1                Ihlasul Mufti Faqih             0                 2   \n",
              "2            Raditya Widi Indarsanto             0                 3   \n",
              "3    Benneth Sinto Briliant Siburian             0                 1   \n",
              "4           I Gusti Bagus Ardavendra             0                 0   \n",
              "..                               ...           ...               ...   \n",
              "295                      Nabila Dewi             1                 1   \n",
              "296                   Nadia Prasetyo             1                 0   \n",
              "297                    Nathan Wijaya             1                 3   \n",
              "298                      Nia Santoso             1                 2   \n",
              "299                    Nanda Permata             1                 1   \n",
              "\n",
              "     edu_back_encoded  Topic1_encoded  Topic2_encoded  Topic3_encoded  \n",
              "0                   3              32               5              10  \n",
              "1                   9              10               2              18  \n",
              "2                  12              10              29               0  \n",
              "3                   7              28               0              17  \n",
              "4                   9               0               2               5  \n",
              "..                ...             ...             ...             ...  \n",
              "295                 8              14               6              13  \n",
              "296                 4              20               1               6  \n",
              "297                12               1              20              29  \n",
              "298                14               1              31              19  \n",
              "299                 8               7               1              19  \n",
              "\n",
              "[300 rows x 7 columns]"
            ],
            "text/html": [
              "\n",
              "  <div id=\"df-0cdfe84c-bffe-46ee-9297-d41e38f219f4\">\n",
              "    <div class=\"colab-df-container\">\n",
              "      <div>\n",
              "<style scoped>\n",
              "    .dataframe tbody tr th:only-of-type {\n",
              "        vertical-align: middle;\n",
              "    }\n",
              "\n",
              "    .dataframe tbody tr th {\n",
              "        vertical-align: top;\n",
              "    }\n",
              "\n",
              "    .dataframe thead th {\n",
              "        text-align: right;\n",
              "    }\n",
              "</style>\n",
              "<table border=\"1\" class=\"dataframe\">\n",
              "  <thead>\n",
              "    <tr style=\"text-align: right;\">\n",
              "      <th></th>\n",
              "      <th>Name</th>\n",
              "      <th>role_encoded</th>\n",
              "      <th>late_edu_encoded</th>\n",
              "      <th>edu_back_encoded</th>\n",
              "      <th>Topic1_encoded</th>\n",
              "      <th>Topic2_encoded</th>\n",
              "      <th>Topic3_encoded</th>\n",
              "    </tr>\n",
              "  </thead>\n",
              "  <tbody>\n",
              "    <tr>\n",
              "      <th>0</th>\n",
              "      <td>Bachrul Uluum</td>\n",
              "      <td>0</td>\n",
              "      <td>0</td>\n",
              "      <td>3</td>\n",
              "      <td>32</td>\n",
              "      <td>5</td>\n",
              "      <td>10</td>\n",
              "    </tr>\n",
              "    <tr>\n",
              "      <th>1</th>\n",
              "      <td>Ihlasul Mufti Faqih</td>\n",
              "      <td>0</td>\n",
              "      <td>2</td>\n",
              "      <td>9</td>\n",
              "      <td>10</td>\n",
              "      <td>2</td>\n",
              "      <td>18</td>\n",
              "    </tr>\n",
              "    <tr>\n",
              "      <th>2</th>\n",
              "      <td>Raditya Widi Indarsanto</td>\n",
              "      <td>0</td>\n",
              "      <td>3</td>\n",
              "      <td>12</td>\n",
              "      <td>10</td>\n",
              "      <td>29</td>\n",
              "      <td>0</td>\n",
              "    </tr>\n",
              "    <tr>\n",
              "      <th>3</th>\n",
              "      <td>Benneth Sinto Briliant Siburian</td>\n",
              "      <td>0</td>\n",
              "      <td>1</td>\n",
              "      <td>7</td>\n",
              "      <td>28</td>\n",
              "      <td>0</td>\n",
              "      <td>17</td>\n",
              "    </tr>\n",
              "    <tr>\n",
              "      <th>4</th>\n",
              "      <td>I Gusti Bagus Ardavendra</td>\n",
              "      <td>0</td>\n",
              "      <td>0</td>\n",
              "      <td>9</td>\n",
              "      <td>0</td>\n",
              "      <td>2</td>\n",
              "      <td>5</td>\n",
              "    </tr>\n",
              "    <tr>\n",
              "      <th>...</th>\n",
              "      <td>...</td>\n",
              "      <td>...</td>\n",
              "      <td>...</td>\n",
              "      <td>...</td>\n",
              "      <td>...</td>\n",
              "      <td>...</td>\n",
              "      <td>...</td>\n",
              "    </tr>\n",
              "    <tr>\n",
              "      <th>295</th>\n",
              "      <td>Nabila Dewi</td>\n",
              "      <td>1</td>\n",
              "      <td>1</td>\n",
              "      <td>8</td>\n",
              "      <td>14</td>\n",
              "      <td>6</td>\n",
              "      <td>13</td>\n",
              "    </tr>\n",
              "    <tr>\n",
              "      <th>296</th>\n",
              "      <td>Nadia Prasetyo</td>\n",
              "      <td>1</td>\n",
              "      <td>0</td>\n",
              "      <td>4</td>\n",
              "      <td>20</td>\n",
              "      <td>1</td>\n",
              "      <td>6</td>\n",
              "    </tr>\n",
              "    <tr>\n",
              "      <th>297</th>\n",
              "      <td>Nathan Wijaya</td>\n",
              "      <td>1</td>\n",
              "      <td>3</td>\n",
              "      <td>12</td>\n",
              "      <td>1</td>\n",
              "      <td>20</td>\n",
              "      <td>29</td>\n",
              "    </tr>\n",
              "    <tr>\n",
              "      <th>298</th>\n",
              "      <td>Nia Santoso</td>\n",
              "      <td>1</td>\n",
              "      <td>2</td>\n",
              "      <td>14</td>\n",
              "      <td>1</td>\n",
              "      <td>31</td>\n",
              "      <td>19</td>\n",
              "    </tr>\n",
              "    <tr>\n",
              "      <th>299</th>\n",
              "      <td>Nanda Permata</td>\n",
              "      <td>1</td>\n",
              "      <td>1</td>\n",
              "      <td>8</td>\n",
              "      <td>7</td>\n",
              "      <td>1</td>\n",
              "      <td>19</td>\n",
              "    </tr>\n",
              "  </tbody>\n",
              "</table>\n",
              "<p>300 rows × 7 columns</p>\n",
              "</div>\n",
              "      <button class=\"colab-df-convert\" onclick=\"convertToInteractive('df-0cdfe84c-bffe-46ee-9297-d41e38f219f4')\"\n",
              "              title=\"Convert this dataframe to an interactive table.\"\n",
              "              style=\"display:none;\">\n",
              "        \n",
              "  <svg xmlns=\"http://www.w3.org/2000/svg\" height=\"24px\"viewBox=\"0 0 24 24\"\n",
              "       width=\"24px\">\n",
              "    <path d=\"M0 0h24v24H0V0z\" fill=\"none\"/>\n",
              "    <path d=\"M18.56 5.44l.94 2.06.94-2.06 2.06-.94-2.06-.94-.94-2.06-.94 2.06-2.06.94zm-11 1L8.5 8.5l.94-2.06 2.06-.94-2.06-.94L8.5 2.5l-.94 2.06-2.06.94zm10 10l.94 2.06.94-2.06 2.06-.94-2.06-.94-.94-2.06-.94 2.06-2.06.94z\"/><path d=\"M17.41 7.96l-1.37-1.37c-.4-.4-.92-.59-1.43-.59-.52 0-1.04.2-1.43.59L10.3 9.45l-7.72 7.72c-.78.78-.78 2.05 0 2.83L4 21.41c.39.39.9.59 1.41.59.51 0 1.02-.2 1.41-.59l7.78-7.78 2.81-2.81c.8-.78.8-2.07 0-2.86zM5.41 20L4 18.59l7.72-7.72 1.47 1.35L5.41 20z\"/>\n",
              "  </svg>\n",
              "      </button>\n",
              "      \n",
              "  <style>\n",
              "    .colab-df-container {\n",
              "      display:flex;\n",
              "      flex-wrap:wrap;\n",
              "      gap: 12px;\n",
              "    }\n",
              "\n",
              "    .colab-df-convert {\n",
              "      background-color: #E8F0FE;\n",
              "      border: none;\n",
              "      border-radius: 50%;\n",
              "      cursor: pointer;\n",
              "      display: none;\n",
              "      fill: #1967D2;\n",
              "      height: 32px;\n",
              "      padding: 0 0 0 0;\n",
              "      width: 32px;\n",
              "    }\n",
              "\n",
              "    .colab-df-convert:hover {\n",
              "      background-color: #E2EBFA;\n",
              "      box-shadow: 0px 1px 2px rgba(60, 64, 67, 0.3), 0px 1px 3px 1px rgba(60, 64, 67, 0.15);\n",
              "      fill: #174EA6;\n",
              "    }\n",
              "\n",
              "    [theme=dark] .colab-df-convert {\n",
              "      background-color: #3B4455;\n",
              "      fill: #D2E3FC;\n",
              "    }\n",
              "\n",
              "    [theme=dark] .colab-df-convert:hover {\n",
              "      background-color: #434B5C;\n",
              "      box-shadow: 0px 1px 3px 1px rgba(0, 0, 0, 0.15);\n",
              "      filter: drop-shadow(0px 1px 2px rgba(0, 0, 0, 0.3));\n",
              "      fill: #FFFFFF;\n",
              "    }\n",
              "  </style>\n",
              "\n",
              "      <script>\n",
              "        const buttonEl =\n",
              "          document.querySelector('#df-0cdfe84c-bffe-46ee-9297-d41e38f219f4 button.colab-df-convert');\n",
              "        buttonEl.style.display =\n",
              "          google.colab.kernel.accessAllowed ? 'block' : 'none';\n",
              "\n",
              "        async function convertToInteractive(key) {\n",
              "          const element = document.querySelector('#df-0cdfe84c-bffe-46ee-9297-d41e38f219f4');\n",
              "          const dataTable =\n",
              "            await google.colab.kernel.invokeFunction('convertToInteractive',\n",
              "                                                     [key], {});\n",
              "          if (!dataTable) return;\n",
              "\n",
              "          const docLinkHtml = 'Like what you see? Visit the ' +\n",
              "            '<a target=\"_blank\" href=https://colab.research.google.com/notebooks/data_table.ipynb>data table notebook</a>'\n",
              "            + ' to learn more about interactive tables.';\n",
              "          element.innerHTML = '';\n",
              "          dataTable['output_type'] = 'display_data';\n",
              "          await google.colab.output.renderOutput(dataTable, element);\n",
              "          const docLink = document.createElement('div');\n",
              "          docLink.innerHTML = docLinkHtml;\n",
              "          element.appendChild(docLink);\n",
              "        }\n",
              "      </script>\n",
              "    </div>\n",
              "  </div>\n",
              "  "
            ]
          },
          "metadata": {},
          "execution_count": 33
        }
      ]
    },
    {
      "cell_type": "markdown",
      "source": [
        "# **Training and Testing Data**"
      ],
      "metadata": {
        "id": "23KMeaJxQ7jM"
      }
    },
    {
      "cell_type": "markdown",
      "source": [
        "Training Data"
      ],
      "metadata": {
        "id": "rAcqXbhm8ttZ"
      }
    },
    {
      "cell_type": "code",
      "source": [
        "! pip install numpy"
      ],
      "metadata": {
        "colab": {
          "base_uri": "https://localhost:8080/"
        },
        "id": "FNbNKFWY87hX",
        "outputId": "20b054fc-8556-4712-9adf-3e7685ff67a7"
      },
      "execution_count": null,
      "outputs": [
        {
          "output_type": "stream",
          "name": "stdout",
          "text": [
            "Looking in indexes: https://pypi.org/simple, https://us-python.pkg.dev/colab-wheels/public/simple/\n",
            "Requirement already satisfied: numpy in /usr/local/lib/python3.10/dist-packages (1.22.4)\n"
          ]
        }
      ]
    },
    {
      "cell_type": "code",
      "source": [
        "import numpy as np\n",
        "import numpy.ma as ma\n",
        "import matplotlib.pyplot as plt\n",
        "import tensorflow as tf\n",
        "from tensorflow import keras\n",
        "import pandas as pd\n",
        "from os.path import exists\n",
        "import tabulate\n",
        "import shutil\n",
        "from sklearn.model_selection import train_test_split\n",
        "from sklearn.linear_model import LogisticRegression"
      ],
      "metadata": {
        "id": "Rwpd574G8-PZ"
      },
      "execution_count": null,
      "outputs": []
    },
    {
      "cell_type": "markdown",
      "source": [
        "Preparing Training Data"
      ],
      "metadata": {
        "id": "p6O3kc3K8v2h"
      }
    },
    {
      "cell_type": "code",
      "source": [
        "mentor_train, mentor_test = train_test_split(data_mentor, train_size=0.80, shuffle=True, random_state=1)\n",
        "mentee_train, mentee_test = train_test_split(data_mentee, train_size=0.80, shuffle=True, random_state=1)"
      ],
      "metadata": {
        "id": "N20cljaaa05i"
      },
      "execution_count": null,
      "outputs": []
    },
    {
      "cell_type": "code",
      "source": [
        "mentor_train=mentor_train.drop('Name',axis=1)"
      ],
      "metadata": {
        "id": "y56TjsgetBSe"
      },
      "execution_count": null,
      "outputs": []
    },
    {
      "cell_type": "code",
      "source": [
        "mentor_train=mentor_train.drop('Profile Views',axis=1)"
      ],
      "metadata": {
        "id": "DWNu3B1Ltk9k"
      },
      "execution_count": null,
      "outputs": []
    },
    {
      "cell_type": "code",
      "source": [
        "mentor_test=mentor_test.drop('Name',axis=1)"
      ],
      "metadata": {
        "id": "gHY4bGQGCJml"
      },
      "execution_count": null,
      "outputs": []
    },
    {
      "cell_type": "code",
      "source": [
        "mentor_test=mentor_test.drop('Profile Views',axis=1)"
      ],
      "metadata": {
        "id": "QR1QBLS9ty6q"
      },
      "execution_count": null,
      "outputs": []
    },
    {
      "cell_type": "code",
      "source": [
        "mentee_test=mentee_test.drop('Name', axis=1)"
      ],
      "metadata": {
        "id": "MFWLeXxjCPi_"
      },
      "execution_count": null,
      "outputs": []
    },
    {
      "cell_type": "code",
      "source": [
        "mentee_train=mentee_train.drop('Name', axis=1)"
      ],
      "metadata": {
        "id": "-VNoC2EVB0vT"
      },
      "execution_count": null,
      "outputs": []
    },
    {
      "cell_type": "code",
      "source": [
        "mentor_test = pd.DataFrame(mentor_test)\n",
        "mentor_train = pd.DataFrame(mentor_train)\n",
        "\n",
        "mentee_test = pd.DataFrame(mentee_test)\n",
        "mentee_train = pd.DataFrame(mentee_train)"
      ],
      "metadata": {
        "id": "-rQUpekPuhLn"
      },
      "execution_count": null,
      "outputs": []
    },
    {
      "cell_type": "code",
      "source": [
        "mentor_test.shape"
      ],
      "metadata": {
        "colab": {
          "base_uri": "https://localhost:8080/"
        },
        "id": "dVfW3qY8vJB5",
        "outputId": "e923c45b-64e6-4369-9916-85f0cc914798"
      },
      "execution_count": null,
      "outputs": [
        {
          "output_type": "execute_result",
          "data": {
            "text/plain": [
              "(60, 6)"
            ]
          },
          "metadata": {},
          "execution_count": 44
        }
      ]
    },
    {
      "cell_type": "code",
      "source": [
        "mentor_train.shape"
      ],
      "metadata": {
        "colab": {
          "base_uri": "https://localhost:8080/"
        },
        "id": "Mtv_5yKVveHy",
        "outputId": "2cc5e994-09d0-40f2-82e1-0285f421844a"
      },
      "execution_count": null,
      "outputs": [
        {
          "output_type": "execute_result",
          "data": {
            "text/plain": [
              "(240, 6)"
            ]
          },
          "metadata": {},
          "execution_count": 45
        }
      ]
    },
    {
      "cell_type": "code",
      "source": [
        "mentee_test.shape"
      ],
      "metadata": {
        "colab": {
          "base_uri": "https://localhost:8080/"
        },
        "id": "x46AnsEbvgIa",
        "outputId": "7ab933b9-598f-47c0-f14b-ba3fc835d456"
      },
      "execution_count": null,
      "outputs": [
        {
          "output_type": "execute_result",
          "data": {
            "text/plain": [
              "(60, 6)"
            ]
          },
          "metadata": {},
          "execution_count": 46
        }
      ]
    },
    {
      "cell_type": "code",
      "source": [
        "mentee_train.shape"
      ],
      "metadata": {
        "colab": {
          "base_uri": "https://localhost:8080/"
        },
        "id": "1cgyjDhovi7H",
        "outputId": "c8db08a6-9d01-4b9b-ea03-0b74487427b2"
      },
      "execution_count": null,
      "outputs": [
        {
          "output_type": "execute_result",
          "data": {
            "text/plain": [
              "(240, 6)"
            ]
          },
          "metadata": {},
          "execution_count": 47
        }
      ]
    },
    {
      "cell_type": "code",
      "source": [
        "x1 = scaled_data_rating\n",
        "x2 = scaled_data_views\n",
        "y1 = role_mentor\n",
        "y2 = late_edu_mentor\n",
        "y3 = edu_back_mentor\n",
        "y4 = exp_mentor\n",
        "y5 = work_mentor"
      ],
      "metadata": {
        "id": "9NxjJHxeUVhj"
      },
      "execution_count": null,
      "outputs": []
    },
    {
      "cell_type": "code",
      "source": [
        "x1_train, x1_test = train_test_split( x1, train_size=0.80, shuffle=True, random_state=1)\n",
        "x2_train, x2_test = train_test_split( x1, train_size=0.80, shuffle=True, random_state=1)\n",
        "y1_train, y1_test = train_test_split( y1, train_size=0.80, shuffle=True, random_state=1)\n",
        "y2_train, y2_test = train_test_split( y2, train_size=0.80, shuffle=True, random_state=1)\n",
        "y3_train, y3_test = train_test_split( y3, train_size=0.80, shuffle=True, random_state=1)\n",
        "y4_train, y4_test = train_test_split( y4, train_size=0.80, shuffle=True, random_state=1)\n",
        "y5_train, y5_test = train_test_split( y5, train_size=0.80, shuffle=True, random_state=1)"
      ],
      "metadata": {
        "id": "AARFqdofmFlw"
      },
      "execution_count": null,
      "outputs": []
    },
    {
      "cell_type": "code",
      "source": [
        "print(f\"There are {len(x1_train)} row of mentor rating in the training set.\")\n",
        "print(f\"There are {len(x1_test)} row of mentor rating in the testing set.\")"
      ],
      "metadata": {
        "colab": {
          "base_uri": "https://localhost:8080/"
        },
        "id": "XqYr3fjMAu2N",
        "outputId": "6d50472c-2bf7-4323-c1b4-49976eef3bcf"
      },
      "execution_count": null,
      "outputs": [
        {
          "output_type": "stream",
          "name": "stdout",
          "text": [
            "There are 240 row of mentor rating in the training set.\n",
            "There are 60 row of mentor rating in the testing set.\n"
          ]
        }
      ]
    },
    {
      "cell_type": "markdown",
      "source": [
        "Naural Network - Content Based Filtering"
      ],
      "metadata": {
        "id": "FYJeGz1bofUo"
      }
    },
    {
      "cell_type": "code",
      "source": [
        "num_mentor_features = mentor_train.shape[1]\n",
        "num_mentee_features = mentee_train.shape[1]"
      ],
      "metadata": {
        "id": "V2rZA_XT-d4o"
      },
      "execution_count": null,
      "outputs": []
    },
    {
      "cell_type": "code",
      "source": [
        "num_outputs = 1\n",
        "tf.random.set_seed(1)\n",
        "mentee_NN = tf.keras.models.Sequential([ \n",
        "    tf.keras.layers.Dense(256, activation='relu'),\n",
        "    tf.keras.layers.Dense(128, activation='relu'),\n",
        "    tf.keras.layers.Dense(num_outputs, activation='linear'),\n",
        "])\n",
        "\n",
        "mentor_NN = tf.keras.models.Sequential([\n",
        "    tf.keras.layers.Dense(256, activation='relu'),\n",
        "    tf.keras.layers.Dense(128, activation='relu'),\n",
        "    tf.keras.layers.Dense(num_outputs, activation='linear'),\n",
        "])"
      ],
      "metadata": {
        "id": "tDPU5I5RoUzI"
      },
      "execution_count": null,
      "outputs": []
    },
    {
      "cell_type": "code",
      "source": [
        "#mentee = user, mentor = item\n",
        "\n",
        "# create the user input and point to the base network\n",
        "input_mentee = tf.keras.layers.Input(shape=(num_mentee_features))\n",
        "vu = mentee_NN(input_mentee)\n",
        "vu = tf.linalg.l2_normalize(vu, axis=1)\n",
        "\n",
        "# create the item input and point to the base network\n",
        "input_mentor = tf.keras.layers.Input(shape=(num_mentor_features))\n",
        "vm = mentor_NN(input_mentor)\n",
        "vm = tf.linalg.l2_normalize(vm, axis=1)\n",
        "\n",
        "# compute the dot product of the two vectors vu and vm\n",
        "output = tf.keras.layers.Dot(axes=1)([vu, vm])\n",
        "\n",
        "# specify the inputs and output of the model\n",
        "model = tf.keras.Model([input_mentee, input_mentor], output)\n",
        "\n",
        "model.summary()"
      ],
      "metadata": {
        "colab": {
          "base_uri": "https://localhost:8080/"
        },
        "id": "B_8quZ5AYCBI",
        "outputId": "92c5fb15-e252-40e3-cc70-57387e5ec8a7"
      },
      "execution_count": null,
      "outputs": [
        {
          "output_type": "stream",
          "name": "stdout",
          "text": [
            "Model: \"model_1\"\n",
            "__________________________________________________________________________________________________\n",
            " Layer (type)                   Output Shape         Param #     Connected to                     \n",
            "==================================================================================================\n",
            " input_3 (InputLayer)           [(None, 6)]          0           []                               \n",
            "                                                                                                  \n",
            " input_4 (InputLayer)           [(None, 6)]          0           []                               \n",
            "                                                                                                  \n",
            " sequential_2 (Sequential)      (None, 32)           38816       ['input_3[0][0]']                \n",
            "                                                                                                  \n",
            " sequential_3 (Sequential)      (None, 32)           38816       ['input_4[0][0]']                \n",
            "                                                                                                  \n",
            " tf.math.l2_normalize_2 (TFOpLa  (None, 32)          0           ['sequential_2[0][0]']           \n",
            " mbda)                                                                                            \n",
            "                                                                                                  \n",
            " tf.math.l2_normalize_3 (TFOpLa  (None, 32)          0           ['sequential_3[0][0]']           \n",
            " mbda)                                                                                            \n",
            "                                                                                                  \n",
            " dot_1 (Dot)                    (None, 1)            0           ['tf.math.l2_normalize_2[0][0]', \n",
            "                                                                  'tf.math.l2_normalize_3[0][0]'] \n",
            "                                                                                                  \n",
            "==================================================================================================\n",
            "Total params: 77,632\n",
            "Trainable params: 77,632\n",
            "Non-trainable params: 0\n",
            "__________________________________________________________________________________________________\n"
          ]
        }
      ]
    },
    {
      "cell_type": "markdown",
      "source": [
        "Preparing Y Train"
      ],
      "metadata": {
        "id": "VPS-iGEzTSpk"
      }
    },
    {
      "cell_type": "code",
      "source": [
        "tes"
      ],
      "metadata": {
        "id": "TammXIovTXiP"
      },
      "execution_count": null,
      "outputs": []
    },
    {
      "cell_type": "markdown",
      "source": [
        "Mean Square Error Loss and Adam Oprimizer"
      ],
      "metadata": {
        "id": "hk3J2OdQe0ZR"
      }
    },
    {
      "cell_type": "code",
      "source": [
        "#ini gua tambahin metrics=['accuracy'] biar keluar accuracy nya jgn dihapuss\n",
        "\n",
        "tf.random.set_seed(1)\n",
        "cost_fn = tf.keras.losses.MeanSquaredError()\n",
        "opt = keras.optimizers.Adam(learning_rate=0.01)\n",
        "model.compile(optimizer=opt,\n",
        "              loss=cost_fn,metrics=['accuracy'])"
      ],
      "metadata": {
        "id": "cX9DoHNaez8s"
      },
      "execution_count": null,
      "outputs": []
    },
    {
      "cell_type": "code",
      "source": [
        "#ini masih bingung, user = mentee, item = mentor\n",
        "#\"vector start\" refers to the position or index within the dataset where the specific vectors of interest begin. \n",
        "#It indicates the column number from which the relevant vectors are present in the dataset.\n",
        "\n",
        "uvs = 0  # mentee genre vector start\n",
        "ivs = 0  # mentor genre vector start\n",
        "u_s = 0  # start of columns to use in training, mentee\n",
        "i_s = 0  # start of columns to use in training, mentor"
      ],
      "metadata": {
        "id": "uiymlJ1EfiXa"
      },
      "execution_count": null,
      "outputs": []
    },
    {
      "cell_type": "code",
      "source": [
        "import numpy as np\n",
        "\n",
        "tf.random.set_seed(1)\n",
        "\n",
        "# Convert DataFrames to NumPy arrays\n",
        "mentee_train_array = mentee_train.iloc[:, u_s:].values\n",
        "mentor_train_array = mentor_train.iloc[:, i_s:].values\n",
        "\n",
        "# Replicate the target value to match the number of samples\n",
        "target_data_array = np.repeat(1, mentee_train_array.shape[0])\n",
        "\n",
        "history = model.fit(\n",
        "    [mentee_train_array, mentor_train_array],\n",
        "    target_data_array,\n",
        "    epochs=100,\n",
        "    verbose=1\n",
        ")"
      ],
      "metadata": {
        "id": "4h8Jv0lJAuQb",
        "colab": {
          "base_uri": "https://localhost:8080/"
        },
        "outputId": "8b53b3d2-b6f9-42d2-9436-8e415918e673"
      },
      "execution_count": null,
      "outputs": [
        {
          "output_type": "stream",
          "name": "stdout",
          "text": [
            "Epoch 1/100\n",
            "8/8 [==============================] - 1s 3ms/step - loss: 3.2081e-08 - accuracy: 1.0000\n",
            "Epoch 2/100\n",
            "8/8 [==============================] - 0s 3ms/step - loss: 2.9022e-08 - accuracy: 1.0000\n",
            "Epoch 3/100\n",
            "8/8 [==============================] - 0s 3ms/step - loss: 2.5295e-08 - accuracy: 1.0000\n",
            "Epoch 4/100\n",
            "8/8 [==============================] - 0s 3ms/step - loss: 2.2010e-08 - accuracy: 1.0000\n",
            "Epoch 5/100\n",
            "8/8 [==============================] - 0s 3ms/step - loss: 1.8530e-08 - accuracy: 1.0000\n",
            "Epoch 6/100\n",
            "8/8 [==============================] - 0s 3ms/step - loss: 1.6806e-08 - accuracy: 1.0000\n",
            "Epoch 7/100\n",
            "8/8 [==============================] - 0s 3ms/step - loss: 1.4233e-08 - accuracy: 1.0000\n",
            "Epoch 8/100\n",
            "8/8 [==============================] - 0s 3ms/step - loss: 1.1413e-08 - accuracy: 1.0000\n",
            "Epoch 9/100\n",
            "8/8 [==============================] - 0s 3ms/step - loss: 1.0026e-08 - accuracy: 1.0000\n",
            "Epoch 10/100\n",
            "8/8 [==============================] - 0s 3ms/step - loss: 8.8579e-09 - accuracy: 1.0000\n",
            "Epoch 11/100\n",
            "8/8 [==============================] - 0s 3ms/step - loss: 7.7398e-09 - accuracy: 1.0000\n",
            "Epoch 12/100\n",
            "8/8 [==============================] - 0s 3ms/step - loss: 7.3685e-09 - accuracy: 1.0000\n",
            "Epoch 13/100\n",
            "8/8 [==============================] - 0s 3ms/step - loss: 6.3922e-09 - accuracy: 1.0000\n",
            "Epoch 14/100\n",
            "8/8 [==============================] - 0s 2ms/step - loss: 5.6909e-09 - accuracy: 1.0000\n",
            "Epoch 15/100\n",
            "8/8 [==============================] - 0s 2ms/step - loss: 5.2752e-09 - accuracy: 1.0000\n",
            "Epoch 16/100\n",
            "8/8 [==============================] - 0s 3ms/step - loss: 4.8562e-09 - accuracy: 1.0000\n",
            "Epoch 17/100\n",
            "8/8 [==============================] - 0s 3ms/step - loss: 4.3372e-09 - accuracy: 1.0000\n",
            "Epoch 18/100\n",
            "8/8 [==============================] - 0s 3ms/step - loss: 4.0634e-09 - accuracy: 1.0000\n",
            "Epoch 19/100\n",
            "8/8 [==============================] - 0s 3ms/step - loss: 3.8184e-09 - accuracy: 1.0000\n",
            "Epoch 20/100\n",
            "8/8 [==============================] - 0s 3ms/step - loss: 3.6666e-09 - accuracy: 1.0000\n",
            "Epoch 21/100\n",
            "8/8 [==============================] - 0s 3ms/step - loss: 3.3399e-09 - accuracy: 1.0000\n",
            "Epoch 22/100\n",
            "8/8 [==============================] - 0s 3ms/step - loss: 3.0882e-09 - accuracy: 1.0000\n",
            "Epoch 23/100\n",
            "8/8 [==============================] - 0s 3ms/step - loss: 2.9237e-09 - accuracy: 1.0000\n",
            "Epoch 24/100\n",
            "8/8 [==============================] - 0s 3ms/step - loss: 2.7246e-09 - accuracy: 1.0000\n",
            "Epoch 25/100\n",
            "8/8 [==============================] - 0s 3ms/step - loss: 2.5824e-09 - accuracy: 1.0000\n",
            "Epoch 26/100\n",
            "8/8 [==============================] - 0s 3ms/step - loss: 2.4164e-09 - accuracy: 1.0000\n",
            "Epoch 27/100\n",
            "8/8 [==============================] - 0s 3ms/step - loss: 2.3075e-09 - accuracy: 1.0000\n",
            "Epoch 28/100\n",
            "8/8 [==============================] - 0s 3ms/step - loss: 2.1964e-09 - accuracy: 1.0000\n",
            "Epoch 29/100\n",
            "8/8 [==============================] - 0s 3ms/step - loss: 2.0823e-09 - accuracy: 1.0000\n",
            "Epoch 30/100\n",
            "8/8 [==============================] - 0s 3ms/step - loss: 1.9883e-09 - accuracy: 1.0000\n",
            "Epoch 31/100\n",
            "8/8 [==============================] - 0s 4ms/step - loss: 1.9499e-09 - accuracy: 1.0000\n",
            "Epoch 32/100\n",
            "8/8 [==============================] - 0s 3ms/step - loss: 1.8640e-09 - accuracy: 1.0000\n",
            "Epoch 33/100\n",
            "8/8 [==============================] - 0s 3ms/step - loss: 1.7692e-09 - accuracy: 1.0000\n",
            "Epoch 34/100\n",
            "8/8 [==============================] - 0s 3ms/step - loss: 1.6731e-09 - accuracy: 1.0000\n",
            "Epoch 35/100\n",
            "8/8 [==============================] - 0s 3ms/step - loss: 1.6332e-09 - accuracy: 1.0000\n",
            "Epoch 36/100\n",
            "8/8 [==============================] - 0s 3ms/step - loss: 1.5788e-09 - accuracy: 1.0000\n",
            "Epoch 37/100\n",
            "8/8 [==============================] - 0s 3ms/step - loss: 1.4958e-09 - accuracy: 1.0000\n",
            "Epoch 38/100\n",
            "8/8 [==============================] - 0s 3ms/step - loss: 1.4243e-09 - accuracy: 1.0000\n",
            "Epoch 39/100\n",
            "8/8 [==============================] - 0s 3ms/step - loss: 1.4019e-09 - accuracy: 1.0000\n",
            "Epoch 40/100\n",
            "8/8 [==============================] - 0s 3ms/step - loss: 1.3520e-09 - accuracy: 1.0000\n",
            "Epoch 41/100\n",
            "8/8 [==============================] - 0s 2ms/step - loss: 1.2775e-09 - accuracy: 1.0000\n",
            "Epoch 42/100\n",
            "8/8 [==============================] - 0s 3ms/step - loss: 1.2372e-09 - accuracy: 1.0000\n",
            "Epoch 43/100\n",
            "8/8 [==============================] - 0s 3ms/step - loss: 1.2067e-09 - accuracy: 1.0000\n",
            "Epoch 44/100\n",
            "8/8 [==============================] - 0s 4ms/step - loss: 1.2079e-09 - accuracy: 1.0000\n",
            "Epoch 45/100\n",
            "8/8 [==============================] - 0s 4ms/step - loss: 1.1257e-09 - accuracy: 1.0000\n",
            "Epoch 46/100\n",
            "8/8 [==============================] - 0s 3ms/step - loss: 1.0941e-09 - accuracy: 1.0000\n",
            "Epoch 47/100\n",
            "8/8 [==============================] - 0s 3ms/step - loss: 1.0636e-09 - accuracy: 1.0000\n",
            "Epoch 48/100\n",
            "8/8 [==============================] - 0s 3ms/step - loss: 1.0319e-09 - accuracy: 1.0000\n",
            "Epoch 49/100\n",
            "8/8 [==============================] - 0s 3ms/step - loss: 1.0096e-09 - accuracy: 1.0000\n",
            "Epoch 50/100\n",
            "8/8 [==============================] - 0s 4ms/step - loss: 9.7557e-10 - accuracy: 1.0000\n",
            "Epoch 51/100\n",
            "8/8 [==============================] - 0s 5ms/step - loss: 9.4658e-10 - accuracy: 1.0000\n",
            "Epoch 52/100\n",
            "8/8 [==============================] - 0s 5ms/step - loss: 9.1414e-10 - accuracy: 1.0000\n",
            "Epoch 53/100\n",
            "8/8 [==============================] - 0s 5ms/step - loss: 9.2258e-10 - accuracy: 1.0000\n",
            "Epoch 54/100\n",
            "8/8 [==============================] - 0s 4ms/step - loss: 8.8220e-10 - accuracy: 1.0000\n",
            "Epoch 55/100\n",
            "8/8 [==============================] - 0s 4ms/step - loss: 8.6011e-10 - accuracy: 1.0000\n",
            "Epoch 56/100\n",
            "8/8 [==============================] - 0s 4ms/step - loss: 8.3470e-10 - accuracy: 1.0000\n",
            "Epoch 57/100\n",
            "8/8 [==============================] - 0s 4ms/step - loss: 8.2098e-10 - accuracy: 1.0000\n",
            "Epoch 58/100\n",
            "8/8 [==============================] - 0s 4ms/step - loss: 7.9017e-10 - accuracy: 1.0000\n",
            "Epoch 59/100\n",
            "8/8 [==============================] - 0s 4ms/step - loss: 7.6726e-10 - accuracy: 1.0000\n",
            "Epoch 60/100\n",
            "8/8 [==============================] - 0s 5ms/step - loss: 7.5465e-10 - accuracy: 1.0000\n",
            "Epoch 61/100\n",
            "8/8 [==============================] - 0s 4ms/step - loss: 7.3760e-10 - accuracy: 1.0000\n",
            "Epoch 62/100\n",
            "8/8 [==============================] - 0s 4ms/step - loss: 7.2731e-10 - accuracy: 1.0000\n",
            "Epoch 63/100\n",
            "8/8 [==============================] - 0s 4ms/step - loss: 7.1129e-10 - accuracy: 1.0000\n",
            "Epoch 64/100\n",
            "8/8 [==============================] - 0s 4ms/step - loss: 6.9800e-10 - accuracy: 1.0000\n",
            "Epoch 65/100\n",
            "8/8 [==============================] - 0s 3ms/step - loss: 6.6805e-10 - accuracy: 1.0000\n",
            "Epoch 66/100\n",
            "8/8 [==============================] - 0s 3ms/step - loss: 6.5840e-10 - accuracy: 1.0000\n",
            "Epoch 67/100\n",
            "8/8 [==============================] - 0s 4ms/step - loss: 6.4780e-10 - accuracy: 1.0000\n",
            "Epoch 68/100\n",
            "8/8 [==============================] - 0s 4ms/step - loss: 6.3191e-10 - accuracy: 1.0000\n",
            "Epoch 69/100\n",
            "8/8 [==============================] - 0s 4ms/step - loss: 6.2055e-10 - accuracy: 1.0000\n",
            "Epoch 70/100\n",
            "8/8 [==============================] - 0s 3ms/step - loss: 6.1352e-10 - accuracy: 1.0000\n",
            "Epoch 71/100\n",
            "8/8 [==============================] - 0s 3ms/step - loss: 6.0115e-10 - accuracy: 1.0000\n",
            "Epoch 72/100\n",
            "8/8 [==============================] - 0s 4ms/step - loss: 5.8326e-10 - accuracy: 1.0000\n",
            "Epoch 73/100\n",
            "8/8 [==============================] - 0s 4ms/step - loss: 5.7476e-10 - accuracy: 1.0000\n",
            "Epoch 74/100\n",
            "8/8 [==============================] - 0s 4ms/step - loss: 5.6617e-10 - accuracy: 1.0000\n",
            "Epoch 75/100\n",
            "8/8 [==============================] - 0s 5ms/step - loss: 5.5360e-10 - accuracy: 1.0000\n",
            "Epoch 76/100\n",
            "8/8 [==============================] - 0s 4ms/step - loss: 5.4654e-10 - accuracy: 1.0000\n",
            "Epoch 77/100\n",
            "8/8 [==============================] - 0s 4ms/step - loss: 5.4018e-10 - accuracy: 1.0000\n",
            "Epoch 78/100\n",
            "8/8 [==============================] - 0s 3ms/step - loss: 5.3675e-10 - accuracy: 1.0000\n",
            "Epoch 79/100\n",
            "8/8 [==============================] - 0s 5ms/step - loss: 5.2330e-10 - accuracy: 1.0000\n",
            "Epoch 80/100\n",
            "8/8 [==============================] - 0s 4ms/step - loss: 5.0820e-10 - accuracy: 1.0000\n",
            "Epoch 81/100\n",
            "8/8 [==============================] - 0s 5ms/step - loss: 5.0079e-10 - accuracy: 1.0000\n",
            "Epoch 82/100\n",
            "8/8 [==============================] - 0s 4ms/step - loss: 4.9308e-10 - accuracy: 1.0000\n",
            "Epoch 83/100\n",
            "8/8 [==============================] - 0s 4ms/step - loss: 4.8302e-10 - accuracy: 1.0000\n",
            "Epoch 84/100\n",
            "8/8 [==============================] - 0s 4ms/step - loss: 4.8276e-10 - accuracy: 1.0000\n",
            "Epoch 85/100\n",
            "8/8 [==============================] - 0s 4ms/step - loss: 4.7290e-10 - accuracy: 1.0000\n",
            "Epoch 86/100\n",
            "8/8 [==============================] - 0s 4ms/step - loss: 4.7321e-10 - accuracy: 1.0000\n",
            "Epoch 87/100\n",
            "8/8 [==============================] - 0s 4ms/step - loss: 4.5143e-10 - accuracy: 1.0000\n",
            "Epoch 88/100\n",
            "8/8 [==============================] - 0s 5ms/step - loss: 4.5293e-10 - accuracy: 1.0000\n",
            "Epoch 89/100\n",
            "8/8 [==============================] - 0s 5ms/step - loss: 4.3987e-10 - accuracy: 1.0000\n",
            "Epoch 90/100\n",
            "8/8 [==============================] - 0s 5ms/step - loss: 4.3711e-10 - accuracy: 1.0000\n",
            "Epoch 91/100\n",
            "8/8 [==============================] - 0s 5ms/step - loss: 4.2834e-10 - accuracy: 1.0000\n",
            "Epoch 92/100\n",
            "8/8 [==============================] - 0s 4ms/step - loss: 4.2431e-10 - accuracy: 1.0000\n",
            "Epoch 93/100\n",
            "8/8 [==============================] - 0s 3ms/step - loss: 4.1623e-10 - accuracy: 1.0000\n",
            "Epoch 94/100\n",
            "8/8 [==============================] - 0s 3ms/step - loss: 4.1457e-10 - accuracy: 1.0000\n",
            "Epoch 95/100\n",
            "8/8 [==============================] - 0s 3ms/step - loss: 4.0660e-10 - accuracy: 1.0000\n",
            "Epoch 96/100\n",
            "8/8 [==============================] - 0s 3ms/step - loss: 3.9917e-10 - accuracy: 1.0000\n",
            "Epoch 97/100\n",
            "8/8 [==============================] - 0s 4ms/step - loss: 3.9071e-10 - accuracy: 1.0000\n",
            "Epoch 98/100\n",
            "8/8 [==============================] - 0s 4ms/step - loss: 3.9290e-10 - accuracy: 1.0000\n",
            "Epoch 99/100\n",
            "8/8 [==============================] - 0s 4ms/step - loss: 3.7909e-10 - accuracy: 1.0000\n",
            "Epoch 100/100\n",
            "8/8 [==============================] - 0s 4ms/step - loss: 3.8218e-10 - accuracy: 1.0000\n"
          ]
        }
      ]
    },
    {
      "cell_type": "code",
      "source": [
        "print(\"Input data shape:\", mentee_train_array.shape)\n",
        "print(\"Target data shape:\", target_data_array.shape)"
      ],
      "metadata": {
        "colab": {
          "base_uri": "https://localhost:8080/"
        },
        "id": "P5f_y8uiwq8V",
        "outputId": "27022050-8f2e-4093-b6ea-ba5219907a71"
      },
      "execution_count": null,
      "outputs": [
        {
          "output_type": "stream",
          "name": "stdout",
          "text": [
            "Input data shape: (240, 6)\n",
            "Target data shape: (240,)\n"
          ]
        }
      ]
    },
    {
      "cell_type": "code",
      "source": [
        "model.evaluate([mentee_test.iloc[:, u_s:], mentor_test.iloc[:, i_s:]])"
      ],
      "metadata": {
        "id": "Gs_IqnmmBDwa",
        "colab": {
          "base_uri": "https://localhost:8080/"
        },
        "outputId": "096d80b9-3cbc-4375-feb7-eb927c730682"
      },
      "execution_count": null,
      "outputs": [
        {
          "output_type": "stream",
          "name": "stdout",
          "text": [
            "2/2 [==============================] - 0s 5ms/step - loss: 0.0000e+00 - accuracy: 0.0000e+00\n"
          ]
        },
        {
          "output_type": "execute_result",
          "data": {
            "text/plain": [
              "[0.0, 0.0]"
            ]
          },
          "metadata": {},
          "execution_count": 143
        }
      ]
    },
    {
      "cell_type": "markdown",
      "source": [
        "Plot of Accuracy and Loss"
      ],
      "metadata": {
        "id": "FJyqzKmPBHcY"
      }
    },
    {
      "cell_type": "code",
      "source": [
        "import matplotlib.pyplot as plt\n",
        "\n",
        "acc = history.history['accuracy']\n",
        "#val_acc = history.history['val_accuracy']\n",
        "\n",
        "loss = history.history['loss']\n",
        "#val_loss = history.history['val_loss']\n",
        "\n",
        "epochs_range = np.arange(100)\n",
        "\n",
        "plt.figure(figsize=(12, 8))\n",
        "plt.subplot(1, 2, 1)\n",
        "plt.plot(epochs_range, acc, label='Training Accuracy')\n",
        "#plt.plot(epochs_range, val_acc, label='Validation Accuracy')\n",
        "plt.legend(loc='lower right')\n",
        "plt.title('Training and Validation Accuracy')\n",
        "\n",
        "plt.subplot(1, 2, 2)\n",
        "plt.plot(epochs_range, loss, label='Training Loss')\n",
        "#plt.plot(epochs_range, val_loss, label='Validation Loss')\n",
        "plt.legend(loc='upper right')\n",
        "plt.title('Training and Validation Loss')\n",
        "plt.show()"
      ],
      "metadata": {
        "id": "59Y8worgBK0m",
        "colab": {
          "base_uri": "https://localhost:8080/",
          "height": 699
        },
        "outputId": "6ef7f346-8343-4466-f053-f027c1c1f03c"
      },
      "execution_count": null,
      "outputs": [
        {
          "output_type": "display_data",
          "data": {
            "text/plain": [
              "<Figure size 1200x800 with 2 Axes>"
            ],
            "image/png": "[encoded data removed]"
          },
          "metadata": {}
        }
      ]
    },
    {
      "cell_type": "markdown",
      "source": [
        "Predictions for a new user"
      ],
      "metadata": {
        "id": "dl4iXU81IKaR"
      }
    },
    {
      "cell_type": "code",
      "source": [
        "topic_1 = Data Analyst\n",
        "topic_2 = Data Engineer\n",
        "topic_3 = Data Scientist\n",
        "topic_4 = Front end Developer\n",
        "topic_5 = Back end Developer\n",
        "topic_6 = Full Stack Developer\n",
        "topic_7 = Web Developer\n",
        "topic_8 = Software Engineer\n",
        "topic_10 = Information Security Analyst\n",
        "topic_11 = AI Specialist\n",
        "topic_12 = Computer Networking Specialist\n",
        "topic_13 = Database Administrator\n",
        "topic_14 = Business Development\n",
        "topic_15 = Technopreneur\n",
        "topic_16 = Business Consultant\n",
        "topic_17 = Risk Manager\n",
        "topic_18 = Product Manager\n",
        "topic_19 = Market Researcher\n",
        "topic_20 = Financial Analyst\n",
        "topic_21 = Digital Marketing\n",
        "topic_22 = Entrepreneur\n",
        "topic_23 = Digital Business Analysis\n",
        "topic_24 = Operational Manager\n",
        "topic_25 = Retail Manager\n",
        "topic_26 = Executive Business\n",
        "topic_27 = Graphis Designer\n",
        "topic_28 = UI/UX designer\n",
        "topic_29 = Product Developer\n",
        "topic_30 = Art Director\n",
        "topic_31 = Web Designer\n",
        "topic_32 = Art Entrepreneur \n"
      ],
      "metadata": {
        "id": "bduiOYrs3Qp5"
      },
      "execution_count": null,
      "outputs": []
    },
    {
      "cell_type": "code",
      "source": [
        "#rating topic dari user\n",
        "item_vecs = \n",
        "\n",
        "topic_1 = \n",
        "topic_2 = \n",
        "topic_3 =\n",
        "topic_4 =\n",
        "topic_5 =\n",
        "topic_6 =\n",
        "topic_7 =\n",
        "topic_8 =\n",
        "topic_9 =\n",
        "topic_10 =\n",
        "topic_11 =\n",
        "topic_12 =\n",
        "topic_13 =\n",
        "topic_14 =\n",
        "topic_15 =\n",
        "topic_16 =\n",
        "topic_17 = \n",
        "topic_18 = \n",
        "topic_19 =\n",
        "topic_20 =\n",
        "topic_21 =\n",
        "topic_22 =\n",
        "topic_23 =\n",
        "topic_24 =\n",
        "topic_25 =\n",
        "topic_26 =\n",
        "topic_27 =\n",
        "topic_28 =\n",
        "topic_29 =\n",
        "topic_30 =\n",
        "topic_31 =\n",
        "topic_32 =\n",
        "\n",
        "user_vec = np.array([[topic_1 ,topic_2 ,topic_3 ,topic_4 ,topic_5 ,topic_6 ,topic_7 ,topic_8 ,topic_9 ,topic_10 ,topic_11 ,topic_12 ,topic_13 ,topic_14 ,topic_15 ,topic_16, topic_17 ,topic_18 ,topic_19 ,topic_20 ,topic_21 ,topic_22 ,topic_23 ,topic_24 ,topic_25 ,topic_26 ,topic_27 ,topic_28 ,topic_29 ,topic_30 ,topic_31 ,topic_32]])"
      ],
      "metadata": {
        "id": "0VWm0sLvIU60"
      },
      "execution_count": null,
      "outputs": []
    },
    {
      "cell_type": "code",
      "source": [
        "# generate and replicate the user vector to match the number movies in the data set.\n",
        "user_vecs = gen_user_vecs(user_vec,len(item_vecs))\n",
        "\n",
        "# scale our user and item vectors\n",
        "suser_vecs = scalerUser.transform(user_vecs)\n",
        "sitem_vecs = scalerItem.transform(item_vecs)\n",
        "\n",
        "# make a prediction\n",
        "y_p = model.predict([suser_vecs[:, u_s:], sitem_vecs[:, i_s:]])\n",
        "\n",
        "# unscale y prediction \n",
        "y_pu = scalerTarget.inverse_transform(y_p)\n",
        "\n",
        "# sort the results, highest prediction first\n",
        "sorted_index = np.argsort(-y_pu,axis=0).reshape(-1).tolist()  #negate to get largest rating first\n",
        "sorted_ypu   = y_pu[sorted_index]\n",
        "sorted_items = item_vecs[sorted_index]  #using unscaled vectors for display\n",
        "\n",
        "print_pred_movies(sorted_ypu, sorted_items, movie_dict, maxcount = 10)"
      ],
      "metadata": {
        "id": "YiuzBSakImIy"
      },
      "execution_count": null,
      "outputs": []
    },
    {
      "cell_type": "markdown",
      "source": [
        "Prediction for Existing User"
      ],
      "metadata": {
        "id": "KKsWaph-K8wx"
      }
    },
    {
      "cell_type": "code",
      "source": [
        "uid = 2 \n",
        "# form a set of user vectors. This is the same vector, transformed and repeated.\n",
        "user_vecs, y_vecs = get_user_vecs(uid, user_train_unscaled, item_vecs, user_to_genre)\n",
        "\n",
        "# scale our user and item vectors\n",
        "suser_vecs = scalerUser.transform(user_vecs)\n",
        "sitem_vecs = scalerItem.transform(item_vecs)\n",
        "\n",
        "# make a prediction\n",
        "y_p = model.predict([suser_vecs[:, u_s:], sitem_vecs[:, i_s:]])\n",
        "\n",
        "# unscale y prediction \n",
        "y_pu = scalerTarget.inverse_transform(y_p)\n",
        "\n",
        "# sort the results, highest prediction first\n",
        "sorted_index = np.argsort(-y_pu,axis=0).reshape(-1).tolist()  #negate to get largest rating first\n",
        "sorted_ypu   = y_pu[sorted_index]\n",
        "sorted_items = item_vecs[sorted_index]  #using unscaled vectors for display\n",
        "sorted_user  = user_vecs[sorted_index]\n",
        "sorted_y     = y_vecs[sorted_index]\n",
        "\n",
        "#print sorted predictions for movies rated by the user\n",
        "print_existing_user(sorted_ypu, sorted_y.reshape(-1,1), sorted_user, sorted_items, ivs, uvs, movie_dict, maxcount = 50)"
      ],
      "metadata": {
        "id": "iwzXl7A8R3L4"
      },
      "execution_count": null,
      "outputs": []
    },
    {
      "cell_type": "markdown",
      "source": [
        "Finding Similar Item"
      ],
      "metadata": {
        "id": "3lSogQaWK_sK"
      }
    },
    {
      "cell_type": "code",
      "source": [
        "def sq_dist(a,b):\n",
        "    \"\"\"\n",
        "    Returns the squared distance between two vectors\n",
        "    Args:\n",
        "      a (ndarray (n,)): vector with n features\n",
        "      b (ndarray (n,)): vector with n features\n",
        "    Returns:\n",
        "      d (float) : distance\n",
        "    \"\"\"\n",
        "    ### START CODE HERE ###     \n",
        "    d = sum(np.square(a-b))\n",
        "    ### END CODE HERE ###     \n",
        "    return d"
      ],
      "metadata": {
        "id": "8EUUoAxWLD7W"
      },
      "execution_count": null,
      "outputs": []
    },
    {
      "cell_type": "code",
      "source": [
        "input_mentor_m = tf.keras.layers.Input(shape=(num_mentor_features))    # input layer\n",
        "vm_m = mentor_NN(input_mentor_m)                                       # use the trained item_NN\n",
        "vm_m = tf.linalg.l2_normalize(vm_m, axis=1)                        # incorporate normalization as was done in the original model\n",
        "model_m = tf.keras.Model(input_mentor_m, vm_m)                                \n",
        "model_m.summary()"
      ],
      "metadata": {
        "id": "s9QKlVTGEewx",
        "colab": {
          "base_uri": "https://localhost:8080/"
        },
        "outputId": "d9b97b7c-7c9c-49dd-b93a-11739074956b"
      },
      "execution_count": null,
      "outputs": [
        {
          "output_type": "stream",
          "name": "stdout",
          "text": [
            "Model: \"model_2\"\n",
            "_________________________________________________________________\n",
            " Layer (type)                Output Shape              Param #   \n",
            "=================================================================\n",
            " input_5 (InputLayer)        [(None, 6)]               0         \n",
            "                                                                 \n",
            " sequential_3 (Sequential)   (None, 32)                38816     \n",
            "                                                                 \n",
            " tf.math.l2_normalize_4 (TFO  (None, 32)               0         \n",
            " pLambda)                                                        \n",
            "                                                                 \n",
            "=================================================================\n",
            "Total params: 38,816\n",
            "Trainable params: 38,816\n",
            "Non-trainable params: 0\n",
            "_________________________________________________________________\n"
          ]
        }
      ]
    },
    {
      "cell_type": "code",
      "source": [
        "scaled_mentor_vecs = scalerItem.transform(mentor_vecs)\n",
        "vms = model_m.predict(scaled_mentor_vecs[:,i_s:])\n",
        "print(f\"size of all predicted movie feature vectors: {vms.shape}\")"
      ],
      "metadata": {
        "id": "1g88MSYyEh_2",
        "colab": {
          "base_uri": "https://localhost:8080/",
          "height": 201
        },
        "outputId": "38589eaa-56ba-43fa-acbc-7ac2140af61a"
      },
      "execution_count": null,
      "outputs": [
        {
          "output_type": "error",
          "ename": "NameError",
          "evalue": "ignored",
          "traceback": [
            "\u001b[0;31m---------------------------------------------------------------------------\u001b[0m",
            "\u001b[0;31mNameError\u001b[0m                                 Traceback (most recent call last)",
            "\u001b[0;32m<ipython-input-149-a34f0204fd18>\u001b[0m in \u001b[0;36m<cell line: 1>\u001b[0;34m()\u001b[0m\n\u001b[0;32m----> 1\u001b[0;31m \u001b[0mscaled_mentor_vecs\u001b[0m \u001b[0;34m=\u001b[0m \u001b[0mscalerItem\u001b[0m\u001b[0;34m.\u001b[0m\u001b[0mtransform\u001b[0m\u001b[0;34m(\u001b[0m\u001b[0mmentor_vecs\u001b[0m\u001b[0;34m)\u001b[0m\u001b[0;34m\u001b[0m\u001b[0;34m\u001b[0m\u001b[0m\n\u001b[0m\u001b[1;32m      2\u001b[0m \u001b[0mvms\u001b[0m \u001b[0;34m=\u001b[0m \u001b[0mmodel_m\u001b[0m\u001b[0;34m.\u001b[0m\u001b[0mpredict\u001b[0m\u001b[0;34m(\u001b[0m\u001b[0mscaled_mentor_vecs\u001b[0m\u001b[0;34m[\u001b[0m\u001b[0;34m:\u001b[0m\u001b[0;34m,\u001b[0m\u001b[0mi_s\u001b[0m\u001b[0;34m:\u001b[0m\u001b[0;34m]\u001b[0m\u001b[0;34m)\u001b[0m\u001b[0;34m\u001b[0m\u001b[0;34m\u001b[0m\u001b[0m\n\u001b[1;32m      3\u001b[0m \u001b[0mprint\u001b[0m\u001b[0;34m(\u001b[0m\u001b[0;34mf\"size of all predicted movie feature vectors: {vms.shape}\"\u001b[0m\u001b[0;34m)\u001b[0m\u001b[0;34m\u001b[0m\u001b[0;34m\u001b[0m\u001b[0m\n",
            "\u001b[0;31mNameError\u001b[0m: name 'scalerItem' is not defined"
          ]
        }
      ]
    },
    {
      "cell_type": "code",
      "source": [
        "count = 50  # number of movies to display\n",
        "dim = len(vms)\n",
        "dist = np.zeros((dim,dim))\n",
        "\n",
        "for i in range(dim):\n",
        "    for j in range(dim):\n",
        "        dist[i,j] = sq_dist(vms[i, :], vms[j, :])\n",
        "        \n",
        "m_dist = ma.masked_array(dist, mask=np.identity(dist.shape[0]))  # mask the diagonal\n",
        "\n",
        "disp = [[\"movie1\", \"genres\", \"movie2\", \"genres\"]]\n",
        "for i in range(count):\n",
        "    min_idx = np.argmin(m_dist[i])\n",
        "    movie1_id = int(item_vecs[i,0])\n",
        "    movie2_id = int(item_vecs[min_idx,0])\n",
        "    disp.append( [movie_dict[movie1_id]['title'], movie_dict[movie1_id]['genres'],\n",
        "                  movie_dict[movie2_id]['title'], movie_dict[movie1_id]['genres']]\n",
        "               )\n",
        "table = tabulate.tabulate(disp, tablefmt='html', headers=\"firstrow\")\n",
        "table"
      ],
      "metadata": {
        "id": "2_eGJWqaEmop"
      },
      "execution_count": null,
      "outputs": []
    }
  ]
}